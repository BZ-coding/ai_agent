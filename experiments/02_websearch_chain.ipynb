{
 "cells": [
  {
   "cell_type": "code",
   "execution_count": 1,
   "id": "a8aaf426",
   "metadata": {},
   "outputs": [
    {
     "name": "stderr",
     "output_type": "stream",
     "text": [
      "/usr/local/lib/python3.10/dist-packages/tqdm/auto.py:21: TqdmWarning: IProgress not found. Please update jupyter and ipywidgets. See https://ipywidgets.readthedocs.io/en/stable/user_install.html\n",
      "  from .autonotebook import tqdm as notebook_tqdm\n"
     ]
    }
   ],
   "source": [
    "import os\n",
    "from typing import Any, Dict, List\n",
    "import sys\n",
    "\n",
    "from langchain.agents import load_tools, Tool\n",
    "from langchain.agents import initialize_agent\n",
    "from langchain.agents import AgentType\n",
    "from langchain.llms import Tongyi\n",
    "from langchain.utilities import BingSearchAPIWrapper\n",
    "from langchain_huggingface.llms import HuggingFacePipeline\n",
    "from transformers import AutoModelForCausalLM, AutoTokenizer\n",
    "from transformers import pipeline, TextStreamer\n",
    "from langchain_openai import ChatOpenAI\n",
    "from langchain_core.outputs import LLMResult\n",
    "from langchain.callbacks.streaming_stdout import StreamingStdOutCallbackHandler\n",
    "from langchain_core.messages import BaseMessage\n",
    "import torch"
   ]
  },
  {
   "cell_type": "code",
   "execution_count": 2,
   "id": "a7a2b21c",
   "metadata": {},
   "outputs": [],
   "source": [
    "CHAT_MODEL_PATH = \"/mnt/nfs/zsd_server/models/huggingface/llama-3-chinese-8b-instruct-v3/\""
   ]
  },
  {
   "cell_type": "code",
   "execution_count": 3,
   "id": "44e459bd",
   "metadata": {},
   "outputs": [],
   "source": [
    "os.environ[\"BING_SUBSCRIPTION_KEY\"] = \"\"\n",
    "os.environ[\"BING_SEARCH_URL\"] = \"https://api.bing.microsoft.com/v7.0/search\""
   ]
  },
  {
   "cell_type": "code",
   "execution_count": 4,
   "id": "59a1af7d",
   "metadata": {},
   "outputs": [
    {
     "data": {
      "text/plain": [
       "'<b>北京</b>市地处华北平原西北隅，地势西北高、东南低。地形<b>的</b>特点是山地<b>多</b>、平原少，北部为中低山区，东南部是缓斜<b>的</b>平原，其中山区<b>面积</b>约占61%，平原<b>面积</b>约占39%。全市平均海拔43.5米。<b>北京</b>市平原<b>的</b>海拔高度在20～60米，山地一般海拔1000～1500米。 北京位于北纬39度56<b>分</b>、东经116度20<b>分</b>，地处华北大平原的北部，东面与天津市毗连，其余均与河北省相邻。 北京，简称“京”，是中华人民共和国的首都，是全国的政治中心、文化中心，是世界著名古都和现代化国际城市。 北京市平原区面积为<b>6200平方千米</b>，<b>约</b>占总面积的38%，山区面积10200平方千米，约占总面积的62%，北京的地形西北高，东南低。 北京市平均海拔43.5米。 北京平原的海拔高度在20～60米，山地一般海拔1000～1500米。 由此可见，重庆<b>的</b>平地<b>面积</b>所占比重较小，而<b>北京</b>、天津、上海<b>的</b>平原<b>面积</b>占总<b>面积的</b>比重分别约是38％、93%、94%，即3200平方千米、11129平方千米、5960.07平方千米。 <b>北京</b>，简称“京”，是中华人民共和国<b>的</b>首都、直辖市、 国家中心城市 、超<b>大</b>城市、国际<b>大</b>都市，全国政治中心、文化中心、国际交往中心、科技创新中心，是 中国共产党中央委员会 、中华人民共和国中央人民政府、 全国人民代表大会 、中国人民政治协商 ... <b>北京</b>（Beijing），简称“京”，古称燕京、北平，是中华人民共和国<b>的</b>首都、直辖市、国家中心城市、超<b>大</b>城市，国务院批复确定<b>的</b>中国政治中心、文化中心、国际交往中心、科技创新中心 [1]，截至2020年，全市下辖16个区，总<b>面积</b>16410.54平方千米。. 抢首赞. 评论 ... 对于“北京有多大？. ”这类问题，当然可以理解为在问“北京的区划范围多大？. ”。. 这很容易查得到：面积<b>1.64万平方公里</b>，常住人口2189万。. 但是，这个问题还有一种更常见并更符合实际的理解：“北京连绵的建成区有多大？. ”也就是说，从市中心算起 ... 接种2剂次，两剂间隔≥6个月。. 默沙东甲型肝炎灭活疫苗国内<b>多</b>地出现<b>大面积</b>缺苗<b>的</b>情况，主要或是由于其中国批签发批次<b>的</b>下降导致<b>的</b>库存不足。. 此外，界面新闻对比智飞生物历年年报发现，2023年是默沙东甲型肝炎灭活疫苗近五年来获批签发数量最少<b>的</b>一年 ... 近日，首都医科大学附属<b>北京</b>朝阳医院（以下简称朝阳医院）常营院区经过<b>多</b>学科通力合作，成功帮助一例高度危险<b>的</b>心肌梗塞患者转危为安。. 高龄患者<b>的</b>左主干急性闭塞<b>的</b>处理是心血管医学领域<b>的</b>一<b>大</b>挑战。. 尽管现代医学技术为患者提供了多种治疗选择，但 ... 北京的面积虽然只有1.6万平方公里， 但是却完全可以傲视群雄！ 北京＝2.5×上海. （上海面积6340平方公里） . 北京=9.89×厦门. （厦门面积1699.39平方公里） . 北京=1.26×大连. （大连面积1.3237万平方公里） . 北京=1.4×天津. （天津面积1.1946万平方公里） . 北京=8.42×深圳. （深圳面积1996.85平方公里） . 北京=1.48×青岛. （青岛面积11282平方公里） . 北京=15.2×香港. （香港面积1104.43平方公里）'"
      ]
     },
     "execution_count": 4,
     "metadata": {},
     "output_type": "execute_result"
    }
   ],
   "source": [
    "search = BingSearchAPIWrapper()\n",
    "\n",
    "res = search.run(\"北京的面积有多大？\")\n",
    "res"
   ]
  },
  {
   "cell_type": "code",
   "execution_count": 5,
   "id": "ea5471a6",
   "metadata": {},
   "outputs": [
    {
     "data": {
      "text/plain": [
       "'<b>纽约</b>（英语：New York），隶属于美国 <b>纽约</b>州 ，美国第一<b>大</b>城市，位于美国东北部沿海 哈德逊河 口，濒临 大西洋 ，属 温带大陆性湿润气候 。. 总<b>面积</b>1214平方千米，下辖5个区，市政厅驻曼哈顿市政厅公园内。. [22]截至2022年，总人口约834万人。. [43] <b>纽约</b>原为 ... 纽约市整体面积约<b>1214平方公里</b>（<b>468.9平方</b>英里），其中425平方公里（164.1平方英里）为水域，789平方公里（304.8平方英里）为陆地。. 纽约市地处美国东北纽约州东南哈德森河口，大约在华盛顿特区和波士顿中间位置，紧邻的哈德逊河让纽约市享有运航之便，使其 ... <b>阿帕拉契高原区是</b>纽约州面积最大的地理区域，几乎涵盖了该州南方的大部分地区。纽约州最主要的河流有 哈德逊河、莫华克河、圣罗伦斯河、以及尼加拉河。 [1] [4] 作为世界经济和国际金融<b>的</b>神经中枢之一，<b>纽约</b>占据了区域内<b>的</b>核心地位，而位于波士顿郊区<b>的</b>128号公路两侧则聚集了数以千计<b>的</b>研究机构和高科技企业，被称为&quot;美国东海岸<b>的</b>硅谷&quot;。 <b>纽约面积多大纽约</b>是世界特大城市之一，美国最大<b>的</b>金融、商业、贸易和文化中心。 位于美国东北部哈得孙河注入大西洋<b>的</b>河口处。 市区<b>面积</b>945平方公里，其中水面168平方公里。 <b>纽约多大</b>，最长多少？<b>面积</b>多少？<b>纽约</b>（New York）是美国第一<b>大</b>都市和第一<b>大</b>商港，它不仅是美国<b>的</b>金融中心，也是全世界金融中心之一。<b>纽约</b>位于<b>纽约</b>州东南哈得孙河口，濒临大西洋。它由五个区组成：曼哈顿、布鲁克林、 截至2017年，<b>纽约</b>市人口约851万人，居住在789平方公里<b>的</b>土地上。而<b>纽约大</b>都市圈则<b>有</b>2000万人左右，仅次于东京、墨西哥城、孟买，位居世界第四位。2017年，<b>纽约</b>地区生产总值已达到9007亿美元。扩展资料： <b>纽约的的</b>地理环境： 1、地形地貌 根据最新的统计数据，纽约州的总面积约为<b>141,300平方千米</b>，包括陆地面积和水域面积。 尽管纽约州的面积不及一些大型州那样庞大，但它仍然属于较大的州之一。 纽约州的人口相对集中，拥有超过1900万居民。 纽约州的经济对整个国家有着重要的影响力，成为了世界上最具竞争力的经济中心之一。 上一篇：从纽约怎么坐车到德州. 下一篇：纽约州立大学会计专业介绍. 联系专业留学顾问，立即获取院校 内部非公开资料及留学方案 ，避免踩雷导致延误留学。 获取方案. 最新 推荐. 大纽约市除上述5个区外，还包括纽约州、新泽西州和康涅狄格州的26个县，面积<b>32400余平方公里</b>，<b>是</b>世界最大的都市区之一。 格尔木是蒙古语，意为河流密集的地方， 全球<b>大</b>范围宕机 “始作俑者”CrowdStrike大跌超12%. 今天下午，全球各地平台纷纷刷屏有关微软（MSFT.US）蓝屏<b>的</b>消息，多个国家以及企业报告了宕机 ...'"
      ]
     },
     "execution_count": 5,
     "metadata": {},
     "output_type": "execute_result"
    }
   ],
   "source": [
    "res = search.run(\"纽约的面积有多大？\")\n",
    "res"
   ]
  },
  {
   "cell_type": "code",
   "execution_count": 6,
   "id": "1012245f",
   "metadata": {},
   "outputs": [],
   "source": [
    "# chat_model = AutoModelForCausalLM.from_pretrained(\n",
    "#     CHAT_MODEL_PATH,\n",
    "#     # load_in_8bit=True,\n",
    "#     device_map='auto',\n",
    "#     torch_dtype=torch.bfloat16,\n",
    "# )\n",
    "# tokenizer = AutoTokenizer.from_pretrained(CHAT_MODEL_PATH)\n",
    "# streamer = TextStreamer(tokenizer)\n",
    "# pipe = pipeline(\n",
    "#     \"text-generation\",\n",
    "#     model=chat_model,\n",
    "#     tokenizer=tokenizer,\n",
    "#     max_length=4096,\n",
    "#     truncation=True,\n",
    "#     repetition_penalty=1.2,\n",
    "#     do_sample=True,\n",
    "#     temperature=0.6,\n",
    "#     top_p=0.95,\n",
    "#     streamer=streamer,\n",
    "#     return_full_text=False,\n",
    "# )\n",
    "# local_llm = HuggingFacePipeline(pipeline=pipe)"
   ]
  },
  {
   "cell_type": "code",
   "execution_count": 7,
   "id": "964c4e7d",
   "metadata": {},
   "outputs": [],
   "source": [
    "class MyStreamingStdOutCallbackHandler(StreamingStdOutCallbackHandler):\n",
    "    def on_llm_end(self, response: LLMResult, **kwargs: Any) -> None:\n",
    "        sys.stdout.write(\"\\n\\n\")\n",
    "        sys.stdout.flush()\n",
    "\n",
    "    # def on_chat_model_start(\n",
    "    #     self,\n",
    "    #     serialized: Dict[str, Any],\n",
    "    #     messages: List[List[BaseMessage]],\n",
    "    #     **kwargs: Any,\n",
    "    # ) -> None:\n",
    "    #     sys.stdout.write(f\"{messages}\\n\\n\")\n",
    "    #     sys.stdout.flush()\n",
    "\n",
    "callbacks = [MyStreamingStdOutCallbackHandler()]\n",
    "local_llm = ChatOpenAI(\n",
    "    model_name=\"llama-3-chinese-8b-instruct-v3-f16\",\n",
    "    openai_api_key=\"your-api-key\",\n",
    "    openai_api_base=\"http://localhost:11434/v1/\",\n",
    "    temperature=0.6,\n",
    "    streaming=bool(callbacks),\n",
    "    callbacks=callbacks,\n",
    "    \n",
    ")"
   ]
  },
  {
   "cell_type": "code",
   "execution_count": null,
   "id": "3048c31f",
   "metadata": {},
   "outputs": [],
   "source": []
  },
  {
   "cell_type": "markdown",
   "id": "3bad066b",
   "metadata": {},
   "source": [
    "# langchain自带的bing_search，它的key模型总会输出成`Bing Search`，造成无法匹配\n",
    "# 而自定义的tool放在load_tools里会报错，官方给的方案竟然是在最后追加上去"
   ]
  },
  {
   "cell_type": "code",
   "execution_count": 8,
   "id": "608e43b3",
   "metadata": {},
   "outputs": [],
   "source": [
    "# tools = load_tools([\"bing-search\", \"llm-math\"], llm=local_llm)\n",
    "search_tool = Tool(\n",
    "        name=\"Search\",\n",
    "        func=search.run,\n",
    "        description=\"A wrapper around Search. Useful for when you need to answer questions about current events. Input should be a search query.\",\n",
    "    )\n",
    "tools = load_tools([\"llm-math\"], llm=local_llm)\n",
    "tools = tools + [search_tool]"
   ]
  },
  {
   "cell_type": "code",
   "execution_count": 9,
   "id": "ea4be421",
   "metadata": {},
   "outputs": [
    {
     "data": {
      "text/plain": [
       "[Tool(name='Calculator', description='Useful for when you need to answer questions about math.', func=<bound method Chain.run of LLMMathChain(llm_chain=LLMChain(prompt=PromptTemplate(input_variables=['question'], template='Translate a math problem into a expression that can be executed using Python\\'s numexpr library. Use the output of running this code to answer the question.\\n\\nQuestion: ${{Question with math problem.}}\\n```text\\n${{single line mathematical expression that solves the problem}}\\n```\\n...numexpr.evaluate(text)...\\n```output\\n${{Output of running the code}}\\n```\\nAnswer: ${{Answer}}\\n\\nBegin.\\n\\nQuestion: What is 37593 * 67?\\n```text\\n37593 * 67\\n```\\n...numexpr.evaluate(\"37593 * 67\")...\\n```output\\n2518731\\n```\\nAnswer: 2518731\\n\\nQuestion: 37593^(1/5)\\n```text\\n37593**(1/5)\\n```\\n...numexpr.evaluate(\"37593**(1/5)\")...\\n```output\\n8.222831614237718\\n```\\nAnswer: 8.222831614237718\\n\\nQuestion: {question}\\n'), llm=ChatOpenAI(callbacks=[<__main__.MyStreamingStdOutCallbackHandler object at 0x70bc19002fe0>], client=<openai.resources.chat.completions.Completions object at 0x70bc190037f0>, async_client=<openai.resources.chat.completions.AsyncCompletions object at 0x70bc19068f40>, model_name='llama-3-chinese-8b-instruct-v3-f16', temperature=0.6, openai_api_key=SecretStr('**********'), openai_api_base='http://localhost:11434/v1/', openai_proxy='', streaming=True)))>, coroutine=<bound method Chain.arun of LLMMathChain(llm_chain=LLMChain(prompt=PromptTemplate(input_variables=['question'], template='Translate a math problem into a expression that can be executed using Python\\'s numexpr library. Use the output of running this code to answer the question.\\n\\nQuestion: ${{Question with math problem.}}\\n```text\\n${{single line mathematical expression that solves the problem}}\\n```\\n...numexpr.evaluate(text)...\\n```output\\n${{Output of running the code}}\\n```\\nAnswer: ${{Answer}}\\n\\nBegin.\\n\\nQuestion: What is 37593 * 67?\\n```text\\n37593 * 67\\n```\\n...numexpr.evaluate(\"37593 * 67\")...\\n```output\\n2518731\\n```\\nAnswer: 2518731\\n\\nQuestion: 37593^(1/5)\\n```text\\n37593**(1/5)\\n```\\n...numexpr.evaluate(\"37593**(1/5)\")...\\n```output\\n8.222831614237718\\n```\\nAnswer: 8.222831614237718\\n\\nQuestion: {question}\\n'), llm=ChatOpenAI(callbacks=[<__main__.MyStreamingStdOutCallbackHandler object at 0x70bc19002fe0>], client=<openai.resources.chat.completions.Completions object at 0x70bc190037f0>, async_client=<openai.resources.chat.completions.AsyncCompletions object at 0x70bc19068f40>, model_name='llama-3-chinese-8b-instruct-v3-f16', temperature=0.6, openai_api_key=SecretStr('**********'), openai_api_base='http://localhost:11434/v1/', openai_proxy='', streaming=True)))>),\n",
       " Tool(name='Search', description='A wrapper around Search. Useful for when you need to answer questions about current events. Input should be a search query.', func=<bound method BingSearchAPIWrapper.run of BingSearchAPIWrapper(bing_subscription_key='9ec13739092b4b90901597410fb78a9d', bing_search_url='https://api.bing.microsoft.com/v7.0/search', k=10, search_kwargs={})>)]"
      ]
     },
     "execution_count": 9,
     "metadata": {},
     "output_type": "execute_result"
    }
   ],
   "source": [
    "tools"
   ]
  },
  {
   "cell_type": "code",
   "execution_count": 10,
   "id": "181de7bc",
   "metadata": {},
   "outputs": [
    {
     "name": "stderr",
     "output_type": "stream",
     "text": [
      "/usr/local/lib/python3.10/dist-packages/langchain_core/_api/deprecation.py:139: LangChainDeprecationWarning: The function `initialize_agent` was deprecated in LangChain 0.1.0 and will be removed in 0.3.0. Use Use new agent constructor methods like create_react_agent, create_json_agent, create_structured_chat_agent, etc. instead.\n",
      "  warn_deprecated(\n"
     ]
    }
   ],
   "source": [
    "agent = initialize_agent(\n",
    "    tools,\n",
    "    local_llm,\n",
    "    agent=AgentType.ZERO_SHOT_REACT_DESCRIPTION,\n",
    "    verbose=True)\n",
    "\n",
    "# agent.run(\"北京的面积和纽约的面积差是多少？\")"
   ]
  },
  {
   "cell_type": "markdown",
   "id": "0d0fbad1",
   "metadata": {},
   "source": [
    "# llama3模型不用自己的模板就无法停止\n",
    "# 中文问题容易使模型回答时使用中文标点，造成langchain无法匹配`Action: `"
   ]
  },
  {
   "cell_type": "code",
   "execution_count": 11,
   "id": "e24ab41b",
   "metadata": {},
   "outputs": [
    {
     "data": {
      "text/plain": [
       "'Answer the following questions as best you can. You have access to the following tools:\\n\\nCalculator(*args: Any, callbacks: Union[List[langchain_core.callbacks.base.BaseCallbackHandler], langchain_core.callbacks.base.BaseCallbackManager, NoneType] = None, tags: Optional[List[str]] = None, metadata: Optional[Dict[str, Any]] = None, **kwargs: Any) -> Any - Useful for when you need to answer questions about math.\\nSearch(query: str) -> str - A wrapper around Search. Useful for when you need to answer questions about current events. Input should be a search query.\\n\\nUse the following format:\\n\\nQuestion: the input question you must answer\\nThought: you should always think about what to do\\nAction: the action to take, should be one of [Calculator, Search]\\nAction Input: the input to the action\\nObservation: the result of the action\\n... (this Thought/Action/Action Input/Observation can repeat N times)\\nThought: I now know the final answer\\nFinal Answer: the final answer to the original input question\\n\\nBegin!\\n\\nQuestion: {input}\\nThought:{agent_scratchpad}'"
      ]
     },
     "execution_count": 11,
     "metadata": {},
     "output_type": "execute_result"
    }
   ],
   "source": [
    "agent.agent.llm_chain.prompt.template"
   ]
  },
  {
   "cell_type": "code",
   "execution_count": 12,
   "id": "89a1dfc2",
   "metadata": {},
   "outputs": [],
   "source": [
    "PREFIX = \"\"\"<|begin_of_text|><|start_header_id|>system<|end_header_id|>Answer the following questions as best you can. You have access to the following tools:\"\"\"\n",
    "FORMAT_INSTRUCTIONS = \"\"\"If you can give the final answer:\n",
    "Final Answer: the final answer to the original input question.\n",
    "After the final answer, you can <|eot_id|><|eot_id|>\n",
    "\n",
    "If you can not give the final answer:\n",
    "Thought: you should always think about what to do\n",
    "Action: the action to take, should be one of [Calculator, Search]\n",
    "Action Input: the input to the action.\n",
    "After Action Input, you can <|eot_id|><|eot_id|>\"\"\"\n",
    "SUFFIX = \"\"\"<|start_header_id|>user<|end_header_id|>: Begin!\n",
    "\n",
    "Question: {input}<|eot_id|>\n",
    "<|start_header_id|>assistant<|end_header_id|>:Thought: {agent_scratchpad}\"\"\"\n",
    "\n",
    "agent = initialize_agent(\n",
    "    agent=AgentType.ZERO_SHOT_REACT_DESCRIPTION,\n",
    "    tools=tools,\n",
    "    llm=local_llm,\n",
    "    agent_kwargs={\n",
    "        'prefix':PREFIX,\n",
    "        'format_instructions':FORMAT_INSTRUCTIONS,\n",
    "        'suffix':SUFFIX\n",
    "    },\n",
    "    verbose=True,\n",
    "    handle_parsing_errors=True,\n",
    "    stop=['<|eot_id|>', 'Observation: ']\n",
    ")"
   ]
  },
  {
   "cell_type": "code",
   "execution_count": 13,
   "id": "3ffed371",
   "metadata": {},
   "outputs": [
    {
     "data": {
      "text/plain": [
       "'<|begin_of_text|><|start_header_id|>system<|end_header_id|>Answer the following questions as best you can. You have access to the following tools:\\n\\nCalculator(*args: Any, callbacks: Union[List[langchain_core.callbacks.base.BaseCallbackHandler], langchain_core.callbacks.base.BaseCallbackManager, NoneType] = None, tags: Optional[List[str]] = None, metadata: Optional[Dict[str, Any]] = None, **kwargs: Any) -> Any - Useful for when you need to answer questions about math.\\nSearch(query: str) -> str - A wrapper around Search. Useful for when you need to answer questions about current events. Input should be a search query.\\n\\nIf you can give the final answer:\\nFinal Answer: the final answer to the original input question.\\nAfter the final answer, you can <|eot_id|><|eot_id|>\\n\\nIf you can not give the final answer:\\nThought: you should always think about what to do\\nAction: the action to take, should be one of [Calculator, Search]\\nAction Input: the input to the action.\\nAfter Action Input, you can <|eot_id|><|eot_id|>\\n\\n<|start_header_id|>user<|end_header_id|>: Begin!\\n\\nQuestion: {input}<|eot_id|>\\n<|start_header_id|>assistant<|end_header_id|>:Thought: {agent_scratchpad}'"
      ]
     },
     "execution_count": 13,
     "metadata": {},
     "output_type": "execute_result"
    }
   ],
   "source": [
    "agent.agent.llm_chain.prompt.template"
   ]
  },
  {
   "cell_type": "code",
   "execution_count": 14,
   "id": "7640cfd6",
   "metadata": {},
   "outputs": [
    {
     "name": "stderr",
     "output_type": "stream",
     "text": [
      "/usr/local/lib/python3.10/dist-packages/langchain_core/_api/deprecation.py:139: LangChainDeprecationWarning: The method `Chain.run` was deprecated in langchain 0.1.0 and will be removed in 0.3.0. Use invoke instead.\n",
      "  warn_deprecated(\n"
     ]
    },
    {
     "name": "stdout",
     "output_type": "stream",
     "text": [
      "\n",
      "\n",
      "\u001b[1m> Entering new AgentExecutor chain...\u001b[0m\n",
      "The question is in Chinese. I will try to translate it and determine whether I can give the final answer or need to take an action.\n",
      "\n",
      "Translation: \"How many people are there in the district where Jinling Middle School is located?\"\n",
      "\n",
      "Based on my knowledge, Jinling Middle School is located in Nanjing, Jiangsu Province, China. According to the 2020 census data of Nanjing City, there are over 8 million residents living in the urban area of Nanjing.\n",
      "\n",
      "However, I cannot give a definitive answer as \"区\" can have different meanings depending on the context and regional differences. The term could refer to different levels such as neighborhoods (社区区), districts (行政区), or townships/cities (县市区).\n",
      "\n",
      "Action: Search\n",
      "Action Input: number of residents in Nanjing city, Jiangsu Province, China\n",
      "\n",
      "\u001b[32;1m\u001b[1;3mThe question is in Chinese. I will try to translate it and determine whether I can give the final answer or need to take an action.\n",
      "\n",
      "Translation: \"How many people are there in the district where Jinling Middle School is located?\"\n",
      "\n",
      "Based on my knowledge, Jinling Middle School is located in Nanjing, Jiangsu Province, China. According to the 2020 census data of Nanjing City, there are over 8 million residents living in the urban area of Nanjing.\n",
      "\n",
      "However, I cannot give a definitive answer as \"区\" can have different meanings depending on the context and regional differences. The term could refer to different levels such as neighborhoods (社区区), districts (行政区), or townships/cities (县市区).\n",
      "\n",
      "Action: Search\n",
      "Action Input: number of residents in Nanjing city, Jiangsu Province, China\u001b[0m\n",
      "Observation: \u001b[33;1m\u001b[1;3mChart and table of population level and growth rate for the <b>Nanjing, Jiangsu, China</b> metro area from 1950 to 2024. United Nations population projections are also included through the year 2035. The current metro area population of <b>Nanjing</b>, <b>Jiangsu</b> in 2024 is 9,948,000, a 2.58% increase from 2023. On 18 May, the <b>Jiangsu</b> Provincial Bureau of Statistics released data that revealed the permanent population of <b>Nanjing</b> in 2020 to be 9,314,685. It is important to note, however, that this figure doesn’t not include the floating population. Map of <b>Nanjing</b>, <b>China</b>. Other Biggest <b>Cities</b> in <b>China</b>. Shanghai 29 M. Beijing 21 M. Chongqing 17 M. Tianjin 14 M. Guangzhou 14 M. Shenzhen 13 M. Chengdu 9 M. <b>Nanjing</b> 9 M. Wuhan 9 M. Xian 9 M. Hangzhou 8 M. Shenyang 8 M. Dongguan 8 M. Foshan 7 M. Harbin 7 M. Dalian 6 M. Qingdao 6 M. Zhengzhou 6 M. Jinan 6 M. Changsha 5 M. Located about 270 km west of Shanghai, <b>Nanjing</b> is the political, cultural and economic center of <b>Jiangsu</b> <b>Province</b>. Covering a total area of 6,598 square kilometers, it includes 11 districts under its jurisdiction. The <b>number</b> of permanent <b>residents</b> totals about 8.23 million. Population: Census: <b>Jiangsu</b>: <b>Nanjing</b> data is updated yearly, averaging 8,004.680 Person th (Median) from Dec 2000 to 2020, with 3 observations. The data reached an all-time high of 9,314.685 Person th in 2020 and a record low of 6,126.165 Person th in 2000. <b>Nanjing</b> is the capital of <b>Jiangsu</b> <b>Province</b> with the total area of 6,587.02 square kilometers, and its <b>resident</b> population is 8.335 million（2017）. <b>Nanjing</b>, an ancient capital of <b>China</b>, enjoys a worldwide reputation for its history and culture. <b>Nanjing</b>’s total population has topped 10 million for the first time, as census figures released also reveal gains in particular areas of the <b>city</b>, together with other insights into the 2019 figures, including data as to the educational level of the populace. As of 2022, around 7.34 million people were living in the city <b>Nanjing</b>. Nanjing is the largest city of Jiangsu province and was designated as capital in several dynasties in Chinese history. The statistic shows the population of <b>Nanjing</b> in <b>China</b> from 1980 to 2010, with forecasts up until 2035. In 2010, the population of <b>Nanjing</b> had amounted to about 6.16 million inhabitants and... <b>Nanjing</b> - Capital, Ming Dynasty, Yangtze River: Despite much industrial growth, the <b>city</b> of <b>Nanjing</b> retains a traditional feature—the existence of a substantial rural population within the boundaries of the municipality. The people speak Mandarin with a marked local accent.\u001b[0m\n",
      "Thought:Based on the information I found through searching, it seems that there are over 8 million permanent residents living in Nanjing, Jiangsu Province, China according to the latest data available (2020). However, please note that this figure only represents the permanent population and does not account for the floating population which is not included in these numbers.\n",
      "\n",
      "Final Answer: Over 8 million people are permanently living in the urban area of Nanjing, Jiangsu Province, China.\n",
      "\n",
      "\u001b[32;1m\u001b[1;3mBased on the information I found through searching, it seems that there are over 8 million permanent residents living in Nanjing, Jiangsu Province, China according to the latest data available (2020). However, please note that this figure only represents the permanent population and does not account for the floating population which is not included in these numbers.\n",
      "\n",
      "Final Answer: Over 8 million people are permanently living in the urban area of Nanjing, Jiangsu Province, China.\u001b[0m\n",
      "\n",
      "\u001b[1m> Finished chain.\u001b[0m\n"
     ]
    },
    {
     "data": {
      "text/plain": [
       "'Over 8 million people are permanently living in the urban area of Nanjing, Jiangsu Province, China.'"
      ]
     },
     "execution_count": 14,
     "metadata": {},
     "output_type": "execute_result"
    }
   ],
   "source": [
    "# agent.run(\"How many people are there in the district where Jinling Middle School is located?\")\n",
    "agent.run(\"金陵中学所在的区有多少人?\")"
   ]
  },
  {
   "cell_type": "code",
   "execution_count": null,
   "id": "c7fb04ac",
   "metadata": {},
   "outputs": [],
   "source": []
  }
 ],
 "metadata": {
  "kernelspec": {
   "display_name": "Python 3 (ipykernel)",
   "language": "python",
   "name": "python3"
  },
  "language_info": {
   "codemirror_mode": {
    "name": "ipython",
    "version": 3
   },
   "file_extension": ".py",
   "mimetype": "text/x-python",
   "name": "python",
   "nbconvert_exporter": "python",
   "pygments_lexer": "ipython3",
   "version": "3.10.12"
  }
 },
 "nbformat": 4,
 "nbformat_minor": 5
}
