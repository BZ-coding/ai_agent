{
 "cells": [
  {
   "cell_type": "code",
   "execution_count": 1,
   "id": "92a91125",
   "metadata": {},
   "outputs": [
    {
     "name": "stderr",
     "output_type": "stream",
     "text": [
      "/usr/local/lib/python3.10/dist-packages/tqdm/auto.py:21: TqdmWarning: IProgress not found. Please update jupyter and ipywidgets. See https://ipywidgets.readthedocs.io/en/stable/user_install.html\n",
      "  from .autonotebook import tqdm as notebook_tqdm\n"
     ]
    }
   ],
   "source": [
    "import os\n",
    "from typing import Any, Dict, List\n",
    "import sys\n",
    "\n",
    "from langchain.agents import load_tools, Tool\n",
    "from langchain.agents import initialize_agent\n",
    "from langchain.agents import AgentType\n",
    "from langchain.llms import Tongyi\n",
    "from langchain.utilities import BingSearchAPIWrapper\n",
    "from langchain_huggingface.llms import HuggingFacePipeline\n",
    "from transformers import AutoModelForCausalLM, AutoTokenizer\n",
    "from transformers import pipeline, TextStreamer\n",
    "from langchain_openai import ChatOpenAI\n",
    "from langchain_core.outputs import LLMResult\n",
    "from langchain.callbacks.streaming_stdout import StreamingStdOutCallbackHandler\n",
    "from langchain_core.messages import BaseMessage\n",
    "import torch"
   ]
  },
  {
   "cell_type": "code",
   "execution_count": 2,
   "id": "0350e2d1",
   "metadata": {},
   "outputs": [],
   "source": [
    "CHAT_MODEL_PATH = \"/mnt/nfs/zsd_server/models/huggingface/llama-3-chinese-8b-instruct-v3/\""
   ]
  },
  {
   "cell_type": "code",
   "execution_count": 3,
   "id": "9c3035f0",
   "metadata": {},
   "outputs": [],
   "source": [
    "os.environ[\"BING_SUBSCRIPTION_KEY\"] = \"\"\n",
    "os.environ[\"BING_SEARCH_URL\"] = \"https://api.bing.microsoft.com/v7.0/search\"\n",
    "\n",
    "# model_name=\"llama-3-chinese-8b-instruct-v3-f16\"\n",
    "model_name=\"qwen2:7b\""
   ]
  },
  {
   "cell_type": "code",
   "execution_count": 4,
   "id": "c5a4e3a4",
   "metadata": {},
   "outputs": [
    {
     "data": {
      "text/plain": [
       "'<b>北京</b>市地处华北平原西北隅，地势西北高、东南低。地形<b>的</b>特点是山地<b>多</b>、平原少，北部为中低山区，东南部是缓斜<b>的</b>平原，其中山区<b>面积</b>约占61%，平原<b>面积</b>约占39%。全市平均海拔43.5米。<b>北京</b>市平原<b>的</b>海拔高度在20～60米，山地一般海拔1000～1500米。 北京的面积虽然只有1.6万平方公里， 但是却完全可以傲视群雄！ 北京＝2.5×上海. （上海面积6340平方公里） . 北京=9.89×厦门. （厦门面积1699.39平方公里） . 北京=1.26×大连. （大连面积1.3237万平方公里） . 北京=1.4×天津. （天津面积1.1946万平方公里） . 北京=8.42×深圳. （深圳面积1996.85平方公里） . 北京=1.48×青岛. （青岛面积11282平方公里） . 北京=15.2×香港. （香港面积1104.43平方公里） 东京首都圈<b>的面积</b>大小和整个<b>北京</b>市相差并不远，甚至没<b>有北京大</b>。 而人口，却比<b>北京</b>更<b>多</b>。 另外，机构预计到2035年，全世界最富有<b>的</b>十大城市中，东京圈排名第二（现在也是第二），总GDP比上海、<b>北京</b>仍然高出不少。 北京市平原区面积为<b>6200平方千米</b>，<b>约</b>占总面积的38%，山区面积10200平方千米，约占总面积的62%，北京的地形西北高，东南低。 北京市平均海拔43.5米。 北京平原的海拔高度在20～60米，山地一般海拔1000～1500米。 北京位于北纬39度56<b>分</b>、东经116度20<b>分</b>，地处华北大平原的北部，东面与天津市毗连，其余均与河北省相邻。 北京，简称“京”，是中华人民共和国的首都，是全国的政治中心、文化中心，是世界著名古都和现代化国际城市。 <b>北京</b>，简称“京”，是中华人民共和国<b>的</b>首都、直辖市、国家中心城市、超<b>大</b>城市、国际<b>大</b>都市，全国政治中心、文化中心、国际交往中心、科技创新中心，是中国共产党中央委员会、中华人民共和国中央人民政府、全国人民代表大会、中国人民政治协商会议全国 对于“北京有多大？. ”这类问题，当然可以理解为在问“北京的区划范围多大？. ”。. 这很容易查得到：面积<b>1.64万平方公里</b>，常住人口2189万。. 但是，这个问题还有一种更常见并更符合实际的理解：“北京连绵的建成区有多大？. ”也就是说，从市中心算起 ... <b>北京</b>是中华人民共和国<b>的</b>首都，是中央人民政府<b>的</b>直辖市，是全国<b>的</b>政治、文化中心。 按中央对<b>北京的</b>要求，<b>北京</b>将建设经济繁荣、社会安定和各项公共服务设施、基础建设及生态环境达到世界一流 <b>北京</b>面积≈香港×16倍 北京面积≈苏州×2倍 北京面积≈深圳×8倍 北京面积≈上海+深圳+苏州+香港！ 然后，把北京的“大”放在世界维度上，更唬人 北京面积≈东京×7.5倍 北京面积≈首尔×27倍 北京面积≈伦敦×10倍 北京面积≈巴黎×155倍 北京面积≈纽约×20倍 总建筑<b>面积</b>46万平方米<b>的</b>超极合生汇此前只开了东区<b>的</b>30万平方米，16万平方米<b>的</b>西区也预计在2024年年底投入使用。. “下半年<b>北京</b>仍将<b>有多</b>家头部商业在外围商圈开业，包括海淀<b>大</b>悦城、通州万象汇、丽泽16号、望京华彩万象汇等，<b>有</b>望助推全年新增供应逼近100 ...'"
      ]
     },
     "execution_count": 4,
     "metadata": {},
     "output_type": "execute_result"
    }
   ],
   "source": [
    "search = BingSearchAPIWrapper()\n",
    "\n",
    "res = search.run(\"北京的面积有多大？\")\n",
    "res"
   ]
  },
  {
   "cell_type": "code",
   "execution_count": 5,
   "id": "89621c50",
   "metadata": {},
   "outputs": [
    {
     "data": {
      "text/plain": [
       "'<b>纽约</b>（英语：New York），隶属于美国 <b>纽约</b>州 ，美国第一<b>大</b>城市，位于美国东北部沿海 哈德逊河 口，濒临 大西洋 ，属 温带大陆性湿润气候 。. 总<b>面积</b>1214平方千米，下辖5个区，市政厅驻曼哈顿市政厅公园内。. [22]截至2022年，总人口约834万人。. [43] <b>纽约</b>原为 ... 纽约市整体面积约<b>1214平方公里</b>（<b>468.9平方</b>英里），其中425平方公里（164.1平方英里）为水域，789平方公里（304.8平方英里）为陆地。. 纽约市地处美国东北纽约州东南哈德森河口，大约在华盛顿特区和波士顿中间位置，紧邻的哈德逊河让纽约市享有运航之 ... <b>阿帕拉契高原区是</b>纽约州面积最大的地理区域，几乎涵盖了该州南方的大部分地区。纽约州最主要的河流有 哈德逊河、莫华克河、圣罗伦斯河、以及尼加拉河。 [1] [4] 作为世界经济和国际金融<b>的</b>神经中枢之一，<b>纽约</b>占据了区域内<b>的</b>核心地位，而位于波士顿郊区<b>的</b>128号公路两侧则聚集了数以千计<b>的</b>研究机构和高科技企业，被称为&quot;美国东海岸<b>的</b>硅谷&quot;。 <b>纽约面积多大纽约</b>是世界特大城市之一，美国最大<b>的</b>金融、商业、贸易和文化中心。 位于美国东北部哈得孙河注入大西洋<b>的</b>河口处。 市区<b>面积</b>945平方公里，其中水面168平方公里。 <b>纽约多大</b>，最长多少？<b>面积</b>多少？<b>纽约</b>（New York）是美国第一<b>大</b>都市和第一<b>大</b>商港，它不仅是美国<b>的</b>金融中心，也是全世界金融中心之一。<b>纽约</b>位于<b>纽约</b>州东南哈得孙河口，濒临大西洋。它由五个区组成：曼哈顿、布鲁克林、 截至2017年，<b>纽约</b>市人口约851万人，居住在789平方公里<b>的</b>土地上。而<b>纽约大</b>都市圈则<b>有</b>2000万人左右，仅次于东京、墨西哥城、孟买，位居世界第四位。2017年，<b>纽约</b>地区生产总值已达到9007亿美元。扩展资料： <b>纽约的的</b>地理环境： 1、地形地貌 根据最新的统计数据，纽约州的总面积约为<b>141,300平方千米</b>，包括陆地面积和水域面积。 尽管纽约州的面积不及一些大型州那样庞大，但它仍然属于较大的州之一。 纽约州的人口相对集中，拥有超过1900万居民。 纽约州的经济对整个国家有着重要的影响力，成为了世界上最具竞争力的经济中心之一。 上一篇：从纽约怎么坐车到德州. 下一篇：纽约州立大学会计专业介绍. 联系专业留学顾问，立即获取院校 内部非公开资料及留学方案 ，避免踩雷导致延误留学。 获取方案. 最新 推荐. 纽约面积<b>130公顷</b>，<b>由</b>曼哈顿、布鲁克林、皇后区、布朗克斯区和斯塔藤岛组成。. 纽约大都会面积17405平方公里。. 纽约是美国少数民族最为集中的地区，黑人有一百万万以上，著名的唐人街现有二十余万万华人，还有众多的意大利人和犹太人。. 联合国 ... 01 美国副总统哈里斯与近300名民主党主要捐助者举行了电话会议，讨论紧迫<b>的</b>新需求。. 02 会议由颇具影响力<b>的</b>咨询公司Impactual组织，包括领英联合 ...'"
      ]
     },
     "execution_count": 5,
     "metadata": {},
     "output_type": "execute_result"
    }
   ],
   "source": [
    "res = search.run(\"纽约的面积有多大？\")\n",
    "res"
   ]
  },
  {
   "cell_type": "code",
   "execution_count": 6,
   "id": "a35cf946",
   "metadata": {},
   "outputs": [],
   "source": [
    "# chat_model = AutoModelForCausalLM.from_pretrained(\n",
    "#     CHAT_MODEL_PATH,\n",
    "#     # load_in_8bit=True,\n",
    "#     device_map='auto',\n",
    "#     torch_dtype=torch.bfloat16,\n",
    "# )\n",
    "# tokenizer = AutoTokenizer.from_pretrained(CHAT_MODEL_PATH)\n",
    "# streamer = TextStreamer(tokenizer)\n",
    "# pipe = pipeline(\n",
    "#     \"text-generation\",\n",
    "#     model=chat_model,\n",
    "#     tokenizer=tokenizer,\n",
    "#     max_length=4096,\n",
    "#     truncation=True,\n",
    "#     repetition_penalty=1.2,\n",
    "#     do_sample=True,\n",
    "#     temperature=0.6,\n",
    "#     top_p=0.95,\n",
    "#     streamer=streamer,\n",
    "#     return_full_text=False,\n",
    "# )\n",
    "# local_llm = HuggingFacePipeline(pipeline=pipe)"
   ]
  },
  {
   "cell_type": "code",
   "execution_count": 7,
   "id": "00c256df",
   "metadata": {},
   "outputs": [],
   "source": [
    "class MyStreamingStdOutCallbackHandler(StreamingStdOutCallbackHandler):\n",
    "    def on_llm_end(self, response: LLMResult, **kwargs: Any) -> None:\n",
    "        sys.stdout.write(\"\\n\\n\")\n",
    "        sys.stdout.flush()\n",
    "\n",
    "    # def on_chat_model_start(\n",
    "    #     self,\n",
    "    #     serialized: Dict[str, Any],\n",
    "    #     messages: List[List[BaseMessage]],\n",
    "    #     **kwargs: Any,\n",
    "    # ) -> None:\n",
    "    #     sys.stdout.write(f\"{messages}\\n\\n\")\n",
    "    #     sys.stdout.flush()\n",
    "\n",
    "callbacks = [MyStreamingStdOutCallbackHandler()]\n",
    "local_llm = ChatOpenAI(\n",
    "    model_name=model_name,\n",
    "    openai_api_key=\"your-api-key\",\n",
    "    openai_api_base=\"http://localhost:11434/v1/\",\n",
    "    temperature=0.6,\n",
    "    streaming=bool(callbacks),\n",
    "#     callbacks=callbacks,\n",
    "    stop=['<|eot_id|>', 'Observation:', 'Observation:\\n'],\n",
    ")"
   ]
  },
  {
   "cell_type": "code",
   "execution_count": null,
   "id": "8735ab53",
   "metadata": {},
   "outputs": [],
   "source": []
  },
  {
   "cell_type": "markdown",
   "id": "8a453c06",
   "metadata": {},
   "source": [
    "# langchain自带的bing_search，它的key模型总会输出成`Bing Search`，造成无法匹配\n",
    "# 而自定义的tool放在load_tools里会报错，官方给的方案竟然是在最后追加上去"
   ]
  },
  {
   "cell_type": "code",
   "execution_count": 8,
   "id": "57c6853c",
   "metadata": {},
   "outputs": [],
   "source": [
    "# tools = load_tools([\"bing-search\", \"llm-math\"], llm=local_llm)\n",
    "search_tool = Tool(\n",
    "        name=\"Search\",\n",
    "        func=search.run,\n",
    "        description=\"A wrapper around Search. Useful for when you need to answer questions about current events. Input should be a search query.\",\n",
    "    )\n",
    "tools = load_tools([\"llm-math\"], llm=local_llm)\n",
    "tools = tools + [search_tool]"
   ]
  },
  {
   "cell_type": "code",
   "execution_count": 9,
   "id": "5a8023bf",
   "metadata": {},
   "outputs": [
    {
     "data": {
      "text/plain": [
       "[Tool(name='Calculator', description='Useful for when you need to answer questions about math.', func=<bound method Chain.run of LLMMathChain(llm_chain=LLMChain(prompt=PromptTemplate(input_variables=['question'], template='Translate a math problem into a expression that can be executed using Python\\'s numexpr library. Use the output of running this code to answer the question.\\n\\nQuestion: ${{Question with math problem.}}\\n```text\\n${{single line mathematical expression that solves the problem}}\\n```\\n...numexpr.evaluate(text)...\\n```output\\n${{Output of running the code}}\\n```\\nAnswer: ${{Answer}}\\n\\nBegin.\\n\\nQuestion: What is 37593 * 67?\\n```text\\n37593 * 67\\n```\\n...numexpr.evaluate(\"37593 * 67\")...\\n```output\\n2518731\\n```\\nAnswer: 2518731\\n\\nQuestion: 37593^(1/5)\\n```text\\n37593**(1/5)\\n```\\n...numexpr.evaluate(\"37593**(1/5)\")...\\n```output\\n8.222831614237718\\n```\\nAnswer: 8.222831614237718\\n\\nQuestion: {question}\\n'), llm=ChatOpenAI(client=<openai.resources.chat.completions.Completions object at 0x700b50c1fb50>, async_client=<openai.resources.chat.completions.AsyncCompletions object at 0x700b50c852a0>, model_name='qwen2:7b', temperature=0.6, openai_api_key=SecretStr('**********'), openai_api_base='http://localhost:11434/v1/', openai_proxy='', streaming=True, stop=['<|eot_id|>', 'Observation:', 'Observation:\\n'])))>, coroutine=<bound method Chain.arun of LLMMathChain(llm_chain=LLMChain(prompt=PromptTemplate(input_variables=['question'], template='Translate a math problem into a expression that can be executed using Python\\'s numexpr library. Use the output of running this code to answer the question.\\n\\nQuestion: ${{Question with math problem.}}\\n```text\\n${{single line mathematical expression that solves the problem}}\\n```\\n...numexpr.evaluate(text)...\\n```output\\n${{Output of running the code}}\\n```\\nAnswer: ${{Answer}}\\n\\nBegin.\\n\\nQuestion: What is 37593 * 67?\\n```text\\n37593 * 67\\n```\\n...numexpr.evaluate(\"37593 * 67\")...\\n```output\\n2518731\\n```\\nAnswer: 2518731\\n\\nQuestion: 37593^(1/5)\\n```text\\n37593**(1/5)\\n```\\n...numexpr.evaluate(\"37593**(1/5)\")...\\n```output\\n8.222831614237718\\n```\\nAnswer: 8.222831614237718\\n\\nQuestion: {question}\\n'), llm=ChatOpenAI(client=<openai.resources.chat.completions.Completions object at 0x700b50c1fb50>, async_client=<openai.resources.chat.completions.AsyncCompletions object at 0x700b50c852a0>, model_name='qwen2:7b', temperature=0.6, openai_api_key=SecretStr('**********'), openai_api_base='http://localhost:11434/v1/', openai_proxy='', streaming=True, stop=['<|eot_id|>', 'Observation:', 'Observation:\\n'])))>),\n",
       " Tool(name='Search', description='A wrapper around Search. Useful for when you need to answer questions about current events. Input should be a search query.', func=<bound method BingSearchAPIWrapper.run of BingSearchAPIWrapper(bing_subscription_key='9ec13739092b4b90901597410fb78a9d', bing_search_url='https://api.bing.microsoft.com/v7.0/search', k=10, search_kwargs={})>)]"
      ]
     },
     "execution_count": 9,
     "metadata": {},
     "output_type": "execute_result"
    }
   ],
   "source": [
    "tools"
   ]
  },
  {
   "cell_type": "code",
   "execution_count": 10,
   "id": "dbaf34b0",
   "metadata": {},
   "outputs": [
    {
     "name": "stderr",
     "output_type": "stream",
     "text": [
      "/usr/local/lib/python3.10/dist-packages/langchain_core/_api/deprecation.py:139: LangChainDeprecationWarning: The function `initialize_agent` was deprecated in LangChain 0.1.0 and will be removed in 0.3.0. Use Use new agent constructor methods like create_react_agent, create_json_agent, create_structured_chat_agent, etc. instead.\n",
      "  warn_deprecated(\n"
     ]
    }
   ],
   "source": [
    "agent = initialize_agent(\n",
    "    tools,\n",
    "    local_llm,\n",
    "    agent=AgentType.ZERO_SHOT_REACT_DESCRIPTION,\n",
    "    verbose=True,\n",
    "    handle_parsing_errors=True,\n",
    "    stop=['Observation:', 'Observation:\\n'],\n",
    ")\n",
    "\n",
    "# agent.run(\"北京的面积和纽约的面积差是多少？\")"
   ]
  },
  {
   "cell_type": "markdown",
   "id": "50c16e51",
   "metadata": {},
   "source": [
    "# llama3模型不用自己的模板就无法停止\n",
    "# 中文问题容易使模型回答时使用中文标点，造成langchain无法匹配`Action: `"
   ]
  },
  {
   "cell_type": "code",
   "execution_count": 11,
   "id": "52b8555e",
   "metadata": {},
   "outputs": [
    {
     "data": {
      "text/plain": [
       "'Answer the following questions as best you can. You have access to the following tools:\\n\\nCalculator(*args: Any, callbacks: Union[List[langchain_core.callbacks.base.BaseCallbackHandler], langchain_core.callbacks.base.BaseCallbackManager, NoneType] = None, tags: Optional[List[str]] = None, metadata: Optional[Dict[str, Any]] = None, **kwargs: Any) -> Any - Useful for when you need to answer questions about math.\\nSearch(query: str) -> str - A wrapper around Search. Useful for when you need to answer questions about current events. Input should be a search query.\\n\\nUse the following format:\\n\\nQuestion: the input question you must answer\\nThought: you should always think about what to do\\nAction: the action to take, should be one of [Calculator, Search]\\nAction Input: the input to the action\\nObservation: the result of the action\\n... (this Thought/Action/Action Input/Observation can repeat N times)\\nThought: I now know the final answer\\nFinal Answer: the final answer to the original input question\\n\\nBegin!\\n\\nQuestion: {input}\\nThought:{agent_scratchpad}'"
      ]
     },
     "execution_count": 11,
     "metadata": {},
     "output_type": "execute_result"
    }
   ],
   "source": [
    "agent.agent.llm_chain.prompt.template"
   ]
  },
  {
   "cell_type": "code",
   "execution_count": 12,
   "id": "69d3197d",
   "metadata": {},
   "outputs": [],
   "source": [
    "# PREFIX = \"\"\"<|begin_of_text|><|start_header_id|>system<|end_header_id|>Answer the following questions as best you can. You have access to the following tools:\"\"\"\n",
    "# FORMAT_INSTRUCTIONS = \"\"\"If you can give the final answer:\n",
    "# Final Answer: the final answer to the original input question.\n",
    "# After the final answer, you can <|eot_id|><|eot_id|>\n",
    "\n",
    "# If you can not give the final answer:\n",
    "# Thought: you should always think about what to do\n",
    "# Action: the action to take, should be one of [Calculator, Search]\n",
    "# Action Input: the input to the action.\n",
    "# After Action Input, you can <|eot_id|><|eot_id|>\"\"\"\n",
    "# SUFFIX = \"\"\"<|start_header_id|>user<|end_header_id|>: Begin!\n",
    "\n",
    "# Question: {input}<|eot_id|>\n",
    "# <|start_header_id|>assistant<|end_header_id|>:Thought: {agent_scratchpad}\"\"\"\n",
    "\n",
    "# agent = initialize_agent(\n",
    "#     agent=AgentType.ZERO_SHOT_REACT_DESCRIPTION,\n",
    "#     tools=tools,\n",
    "#     llm=local_llm,\n",
    "#     agent_kwargs={\n",
    "#         'prefix':PREFIX,\n",
    "#         'format_instructions':FORMAT_INSTRUCTIONS,\n",
    "#         'suffix':SUFFIX\n",
    "#     },\n",
    "#     verbose=True,\n",
    "#     handle_parsing_errors=True,\n",
    "#     stop=['<|eot_id|>', 'Observation:', 'Observation:\\n'],\n",
    "# )"
   ]
  },
  {
   "cell_type": "code",
   "execution_count": 13,
   "id": "bfb33bb6",
   "metadata": {},
   "outputs": [
    {
     "data": {
      "text/plain": [
       "'Answer the following questions as best you can. You have access to the following tools:\\n\\nCalculator(*args: Any, callbacks: Union[List[langchain_core.callbacks.base.BaseCallbackHandler], langchain_core.callbacks.base.BaseCallbackManager, NoneType] = None, tags: Optional[List[str]] = None, metadata: Optional[Dict[str, Any]] = None, **kwargs: Any) -> Any - Useful for when you need to answer questions about math.\\nSearch(query: str) -> str - A wrapper around Search. Useful for when you need to answer questions about current events. Input should be a search query.\\n\\nUse the following format:\\n\\nQuestion: the input question you must answer\\nThought: you should always think about what to do\\nAction: the action to take, should be one of [Calculator, Search]\\nAction Input: the input to the action\\nObservation: the result of the action\\n... (this Thought/Action/Action Input/Observation can repeat N times)\\nThought: I now know the final answer\\nFinal Answer: the final answer to the original input question\\n\\nBegin!\\n\\nQuestion: {input}\\nThought:{agent_scratchpad}'"
      ]
     },
     "execution_count": 13,
     "metadata": {},
     "output_type": "execute_result"
    }
   ],
   "source": [
    "agent.agent.llm_chain.prompt.template"
   ]
  },
  {
   "cell_type": "code",
   "execution_count": 14,
   "id": "7addc327",
   "metadata": {},
   "outputs": [
    {
     "name": "stderr",
     "output_type": "stream",
     "text": [
      "/usr/local/lib/python3.10/dist-packages/langchain_core/_api/deprecation.py:139: LangChainDeprecationWarning: The method `Chain.run` was deprecated in langchain 0.1.0 and will be removed in 0.3.0. Use invoke instead.\n",
      "  warn_deprecated(\n"
     ]
    },
    {
     "name": "stdout",
     "output_type": "stream",
     "text": [
      "\n",
      "\n",
      "\u001B[1m> Entering new AgentExecutor chain...\u001B[0m\n",
      "\u001B[32;1m\u001B[1;3m这个问题涉及到具体的数据，需要搜索以获取最新的信息。\n",
      "\n",
      "Action: Search\n",
      "Action Input: \"南京市玄武区人口数量\u001B[0m\n",
      "Observation: \u001B[33;1m\u001B[1;3m根据南京市玄武区第七次全国人口普查结果，现将2020年11月1日零时我区常住人口[2]的基本情况公布如下： 一、常住人口. 全区常住人口为537825人，与2010年我区第六次全国人口普查的651957人相比，十年共减少114132人，下降17.51%，年平均下降率为1.91%。 二、户别人口. 全区共有家庭户[3]173057户，集体户35970户，家庭户人口为417281人，集体户人口为120544人。 平均每个家庭户的人口为2.41人,比2010年我区第六次全国人口普查的2.64人减少0.23人。 三、性别构成. 全区常住人口中，男性人口为268349人，占49.90%， 女性人口为269476人，占50.10%。 南京市第七次全国人口普查领导小组办公室. 2021年5月24日. 根据南京市第七次全国人口普查结果，现将2020年11月1日零时我市常住人口 [2]的基本情况公布如下： 一、常住人口. 全市常住人口为9314685人，与2010年我市第六次全国人口普查的8003744人相比，十年共增加1310941人，增长16.38%，年平均增长率为1.53%。 二、户别人口. 全市共有家庭户 [3]3138775户，集体户461313户，家庭户人口为7795032人，集体户人口为1519653人。 平均每个家庭户的人口为2.48人，比2010年我市第六次全国人口普查的2.77人减少0.29人。 三、地区人口. 主办单位：<b>南京市</b>统计局 支持单位：<b>南京市</b>城市数字治理中心 苏ICP备05004952号-7 网站标识码：3201000016 苏公网安备 32010502010154号 您是本站第 显示网站总访问量 位访客 <b>玄武区</b>，江苏省<b>南京市</b>辖区，位于<b>南京市</b>中部，是国家重要的科研、文化、商务中心，华东地区现代服务业基地，是<b>南京</b>市委、<b>市</b>政府及众多省、<b>市</b>直机关所在地，也是中国人民解放军东部战区、中国人民解放军东部战区空军等部队首脑机关所在地。 城镇人口 100% 0～14 15～64 65以上 74.2% 男 女. 也可以看看: 玄武区各乡镇街道. 位于: 南京市. 玄武区 (中國) 目前的人口数字，人口发展，地图和地点. <b>南京市</b>统计局 生成日期： 2024-03-21 生效日期： 废止日期： 信息名称： 2023年<b>南京市人口</b> 主要数据发布 文 号： 关 键 词： 2023;<b>南京</b>;<b>人口</b> 内容概览： 在线链接地址： 文件下载： 2023年<b>南京市人口</b>主要数据发布 【关闭本页 ... 其中，玄武区2023年末常住人口数53.69万人，秦淮<b>区</b>74.29万人，建邺区54.93万人，鼓楼区94.27万人，浦口区41.45万人，栖霞区101.27万人，雨花台区62.80万人，江宁区198.52万人，六合区64.08万人，溧水区51.30万人，高淳区44.00万人，江北新区114.10万 玄武区是南京的核心城区，总面积75.46平方公里，下辖7个街道、60个社区，常住总人口数53.69万<b>人</b>，<b>是</b>南京市委、市政府及众多省、市直机关所在地，也是东部战区、东部战区空军等部队首脑机关所在地。. 辖区内山水城林优美，紫金山、玄武湖占全区面积近50% ... 5月24日，<b>南京市</b>第七次全国<b>人口</b>普查公报正式发布。截至2020年11月1日零时，全市常住<b>人口</b>为9314685人，与2010年我<b>市</b>第六次全国<b>人口</b>普查的8003744人相比，10年增加1310941人，增长16.38%，年平均增长率为1.53%，增长量居全省第二。 南京玄武区人口历年数据如下： 数据来源：南京统计局 下载数据. 注1：增长率指的是自然增长率. 展开查看. 相关数据. 聚汇数据人口数据频道为你提供南京玄武区最新人口统计，以及南京玄武区人口历史数据。\u001B[0m\n",
      "Thought:\u001B[32;1m\u001B[1;3m现在我找到了南京市玄武区和南京市的人口数量。\n",
      "\n",
      "Final Answer: 南京市玄武区的常住人口为537,825人。南京市的常住人口为9,314,685人。请注意，这些数据可能有所变化，请参考最新的统计信息以获得准确的人口数量。\u001B[0m\n",
      "\n",
      "\u001B[1m> Finished chain.\u001B[0m\n"
     ]
    },
    {
     "data": {
      "text/plain": [
       "'南京市玄武区的常住人口为537,825人。南京市的常住人口为9,314,685人。请注意，这些数据可能有所变化，请参考最新的统计信息以获得准确的人口数量。'"
      ]
     },
     "execution_count": 14,
     "metadata": {},
     "output_type": "execute_result"
    }
   ],
   "source": [
    "# agent.run(\"How many people are there in the district where Jinling Middle School is located?\")\n",
    "agent.run(\"金陵中学所在的行政区有多少人?\")"
   ]
  },
  {
   "cell_type": "code",
   "execution_count": null,
   "id": "2442c925",
   "metadata": {},
   "outputs": [],
   "source": []
  }
 ],
 "metadata": {
  "kernelspec": {
   "display_name": "Python 3 (ipykernel)",
   "language": "python",
   "name": "python3"
  },
  "language_info": {
   "codemirror_mode": {
    "name": "ipython",
    "version": 3
   },
   "file_extension": ".py",
   "mimetype": "text/x-python",
   "name": "python",
   "nbconvert_exporter": "python",
   "pygments_lexer": "ipython3",
   "version": "3.10.12"
  }
 },
 "nbformat": 4,
 "nbformat_minor": 5
}
