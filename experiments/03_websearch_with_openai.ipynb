{
 "cells": [
  {
   "cell_type": "code",
   "execution_count": 1,
   "id": "1c2c0370",
   "metadata": {},
   "outputs": [],
   "source": [
    "import os\n",
    "\n",
    "from openai import OpenAI"
   ]
  },
  {
   "cell_type": "code",
   "execution_count": 2,
   "id": "b25b5f5d",
   "metadata": {},
   "outputs": [],
   "source": [
    "os.environ[\"BING_SUBSCRIPTION_KEY\"] = \"\"\n",
    "os.environ[\"BING_SEARCH_URL\"] = \"https://api.bing.microsoft.com/v7.0/search\"\n",
    "\n",
    "OPENAI_BASE_URL = 'http://localhost:11434/v1/'\n",
    "MODEL_NAME = 'llama-3-chinese-8b-instruct-v3-f16'"
   ]
  },
  {
   "cell_type": "code",
   "execution_count": 3,
   "id": "2742cb39",
   "metadata": {},
   "outputs": [],
   "source": [
    "client = OpenAI(\n",
    "    base_url=OPENAI_BASE_URL,\n",
    "    api_key='ollama',  # required but ignored\n",
    ")"
   ]
  },
  {
   "cell_type": "code",
   "execution_count": 4,
   "id": "231ccf62",
   "metadata": {},
   "outputs": [],
   "source": [
    "def get_response(**params):\n",
    "    chat_completion = client.chat.completions.create(\n",
    "        **params,\n",
    "        model=MODEL_NAME,\n",
    "    )\n",
    "    return chat_completion\n",
    "\n",
    "\n",
    "def run_conversation(messages: list, stream=False):\n",
    "    params = {\n",
    "        \"messages\": messages,\n",
    "        \"temperature\": 0.6,\n",
    "        \"stream\": stream,\n",
    "    }\n",
    "    response = get_response(**params)\n",
    "    return response\n",
    "\n",
    "def chat(messages, stream, only_delta=False):\n",
    "    response = run_conversation(messages=messages, stream=stream)\n",
    "    if not stream:\n",
    "        yield response.choices[0].message.content\n",
    "    else:\n",
    "        message = \"\"\n",
    "        for token in response:\n",
    "            if token.choices[0].finish_reason is not None:\n",
    "                continue\n",
    "            if only_delta:\n",
    "                yield token.choices[0].delta.content\n",
    "            else:\n",
    "                message += token.choices[0].delta.content\n",
    "                yield message"
   ]
  },
  {
   "cell_type": "code",
   "execution_count": 5,
   "id": "4b8ec3e4",
   "metadata": {},
   "outputs": [],
   "source": [
    "query = \"金陵中学所在的行政区有多少人?\""
   ]
  },
  {
   "cell_type": "code",
   "execution_count": 6,
   "id": "d5feecc9",
   "metadata": {},
   "outputs": [],
   "source": [
    "messages = [\n",
    "    {\"role\": \"user\", \"content\": query},\n",
    "]"
   ]
  },
  {
   "cell_type": "code",
   "execution_count": 7,
   "id": "a955aa46",
   "metadata": {},
   "outputs": [
    {
     "name": "stdout",
     "output_type": "stream",
     "text": [
      "很抱歉，无法回答您的问题，因为没有足够的信息来确定金陵中学所在的行政区以及其人口数量。需要更具体和准确的细节才能进行查找或估算。请提供更多上下文或详细信息，以便我能够帮助你得到正确答案。"
     ]
    }
   ],
   "source": [
    "for result in chat(messages=messages, stream=True, only_delta=True):\n",
    "    print(result, end=\"\", flush=True)\n",
    "    "
   ]
  },
  {
   "cell_type": "code",
   "execution_count": null,
   "id": "fb6e84a7",
   "metadata": {},
   "outputs": [],
   "source": []
  }
 ],
 "metadata": {
  "kernelspec": {
   "display_name": "Python 3 (ipykernel)",
   "language": "python",
   "name": "python3"
  },
  "language_info": {
   "codemirror_mode": {
    "name": "ipython",
    "version": 3
   },
   "file_extension": ".py",
   "mimetype": "text/x-python",
   "name": "python",
   "nbconvert_exporter": "python",
   "pygments_lexer": "ipython3",
   "version": "3.10.12"
  }
 },
 "nbformat": 4,
 "nbformat_minor": 5
}
