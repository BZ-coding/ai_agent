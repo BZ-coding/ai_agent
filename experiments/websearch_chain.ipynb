{
 "cells": [
  {
   "cell_type": "code",
   "execution_count": 81,
   "id": "b4d02fe3",
   "metadata": {},
   "outputs": [],
   "source": [
    "import os\n",
    "\n",
    "from langchain.agents import load_tools, Tool\n",
    "from langchain.agents import initialize_agent\n",
    "from langchain.agents import AgentType\n",
    "from langchain.llms import Tongyi\n",
    "from langchain.utilities import BingSearchAPIWrapper\n",
    "from langchain_huggingface.llms import HuggingFacePipeline\n",
    "from transformers import AutoModelForCausalLM, AutoTokenizer\n",
    "from transformers import pipeline, TextStreamer\n",
    "import torch"
   ]
  },
  {
   "cell_type": "code",
   "execution_count": 2,
   "id": "e9eddfbb",
   "metadata": {},
   "outputs": [],
   "source": [
    "CHAT_MODEL_PATH = \"/mnt/nfs/zsd_server/models/huggingface/llama-3-chinese-8b-instruct-v3/\""
   ]
  },
  {
   "cell_type": "code",
   "execution_count": 3,
   "id": "dee133c6",
   "metadata": {},
   "outputs": [],
   "source": [
    "os.environ[\"BING_SUBSCRIPTION_KEY\"] = \"\"\n",
    "os.environ[\"BING_SEARCH_URL\"] = \"https://api.bing.microsoft.com/v7.0/search\""
   ]
  },
  {
   "cell_type": "code",
   "execution_count": 4,
   "id": "918d5511",
   "metadata": {},
   "outputs": [
    {
     "data": {
      "text/plain": [
       "'<b>北京</b>市地处中国北部、 华北平原 北部，东与 天津市 毗连，其余均与 河北省 相邻，中心位于东经116°20′、北纬39°56′，<b>北京</b>市地势西北高、东南低。. 西部、北部和东北部三面环山，东南部是一片缓缓向渤海倾斜<b>的</b>平原。. 境内流经<b>的</b>主要河流<b>有</b>： 永定河 ... <b>北京</b>面积≈香港×16倍 北京面积≈苏州×2倍 北京面积≈深圳×8倍 北京面积≈上海+深圳+苏州+香港！ 然后，把北京的“大”放在世界维度上，更唬人 北京面积≈东京×7.5倍 北京面积≈首尔×27倍 北京面积≈伦敦×10倍 北京面积≈巴黎×155倍 北京面积≈纽约×20倍 东京首都圈<b>的面积</b>大小和整个<b>北京</b>市相差并不远，甚至没<b>有北京大</b>。 而人口，却比<b>北京</b>更<b>多</b>。 另外，机构预计到2035年，全世界最富有<b>的</b>十大城市中，东京圈排名第二（现在也是第二），总GDP比上海、<b>北京</b>仍然高出不少。 北京市平原区面积为<b>6200平方千米</b>，<b>约</b>占总面积的38%，山区面积10200平方千米，约占总面积的62%，北京的地形西北高，东南低。 北京市平均海拔43.5米。 北京平原的海拔高度在20～60米，山地一般海拔1000～1500米。 北京，截至2018年，全市下辖16个区，总面积16410.54平方<b>千米</b>，<b>2019年末</b>， 常住人口 2153.6万人，城镇人口1865万人， 城镇化率 86.6% ，常住外来人口达794.3万人。. 上海，全市下辖16个区，总面积6340.5平方千米，2019年常住人口2428.14万人，户籍常住人口1450.43万人，外来 ... 北京位于北纬39度56<b>分</b>、东经116度20<b>分</b>，地处华北大平原的北部，东面与天津市毗连，其余均与河北省相邻。 北京，简称“京”，是中华人民共和国的首都，是全国的政治中心、文化中心，是世界著名古都和现代化国际城市。 <b>北京</b>，简称“京”，是中华人民共和国<b>的</b>首都、直辖市、国家中心城市、超<b>大</b>城市、国际<b>大</b>都市，全国政治中心、文化中心、国际交往中心、科技创新中心，是中国共产党中央委员会、中华人民共和国中央人民政府、全国人民代表大会、中国人民政治协商会议全国 <b>北京的面积</b>虽然只有1.6万平方公里， 但是却完全可以傲视群雄！ 北京＝2.5×上海. （上海面积6340平方公里） . 北京=9.89×厦门. （厦门面积1699.39平方公里） . 北京=1.26×大连. （大连面积1.3237万平方公里） . 北京=1.4×天津. （天津面积1.1946万平方公里） . 北京=8.42×深圳. （深圳面积1996.85平方公里） . 北京=1.48×青岛. （青岛面积11282平方公里） . 北京=15.2×香港. （香港面积1104.43平方公里） 一文看懂北京各区面积,东城最小,最大区是<b>东城53倍</b>. 一提到北京，你脑海中会浮现什么样的画面？. 可能是帝都，也可能是紫禁城；可能是涮羊肉，也可能是全聚德；可能是奥运会，也可能是胡同。. 每个人的认知自然是不一样的。. 北京16个区，其中城区有6个 ... <b>北京</b>市辖4个城区,4个近郊区,8个远郊区县.各区、县<b>的面积</b>分别如下：东城区,24.7平方公里；西城区,30平方公里；崇文区,15．6平方公里；宣武区,16．5平方公里；朝阳区,470.8平方公里；海淀区,426．3平方公里；丰台区,304．2平方公里；石景山区,81．8平方'"
      ]
     },
     "execution_count": 4,
     "metadata": {},
     "output_type": "execute_result"
    }
   ],
   "source": [
    "search = BingSearchAPIWrapper()\n",
    "\n",
    "res = search.run(\"北京的面积有多大？\")\n",
    "res"
   ]
  },
  {
   "cell_type": "code",
   "execution_count": 5,
   "id": "8708f892",
   "metadata": {},
   "outputs": [
    {
     "data": {
      "text/plain": [
       "'<b>纽约</b>（英语：New York），隶属于美国 <b>纽约</b>州 ，美国第一<b>大</b>城市，位于美国东北部沿海 哈德逊河 口，濒临 大西洋 ，属 温带大陆性湿润气候 。. 总<b>面积</b>1214平方千米，下辖5个区，市政厅驻曼哈顿市政厅公园内。. [22] 截至2022年，总人口约834万人。. [43] <b>纽约</b>原为 ... 作为世界经济和国际金融<b>的</b>神经中枢之一，<b>纽约</b>占据了区域内<b>的</b>核心地位，而位于波士顿郊区<b>的</b>128号公路两侧则聚集了数以千计<b>的</b>研究机构和高科技企业，被称为&quot;美国东海岸<b>的</b>硅谷&quot;。 <b>纽约</b>： 全市<b>面积</b>约1,214.4平方公里，土地<b>面积</b>785.6平方公里，水域<b>面积</b>428.8平方公里；市区<b>面积</b>8,683.2平方公里；<b>纽约大</b>都会<b>面积</b>17,405平方公里。 2010年，<b>纽约的</b>财产所有总值为813万亿美元。在世界500强企业中，<b>有</b>56家企业位于<b>纽约</b>。 纽约市整体面积约<b>1214平方公里</b>（<b>468.9平方</b>英里），其中425平方公里（164.1平方英里）为水域，789平方公里（304.8平方英里）为陆地。. 纽约市地处美国东北纽约州东南哈德森河口，大约在华盛顿特区和波士顿中间位置，紧邻的哈德逊河让纽约市享有运航之便，使其 ... <b>纽约面积多大纽约</b>是世界特大城市之一，美国最大<b>的</b>金融、商业、贸易和文化中心。 位于美国东北部哈得孙河注入大西洋<b>的</b>河口处。 市区<b>面积</b>945平方公里，其中水面168平方公里。 <b>阿帕拉契高原区是</b>纽约州面积最大的地理区域，几乎涵盖了该州南方的大部分地区。纽约州最主要的河流有 哈德逊河、莫华克河、圣罗伦斯河、以及尼加拉河。 [1] [4] <b>纽约</b>（New York），别名<b>大</b>苹果、不夜城、哥谭市，隶属美国<b>纽约</b>州，<b>纽约</b>市是美国第一<b>大</b>城市，全美最大<b>的</b>金融、商业、贸易、文化和传媒中心。. 位于<b>纽约</b>州东南部，<b>纽约</b>由曼哈顿、昆斯、布朗克斯和斯塔藤岛五个区组成，美国东北部沿海哈德逊河口，濒临 ... 截至2017年，<b>纽约</b>市人口约851万人，居住在789平方公里<b>的</b>土地上。而<b>纽约大</b>都市圈则<b>有</b>2000万人左右，仅次于东京、墨西哥城、孟买，位居世界第四位。2017年，<b>纽约</b>地区生产总值已达到9007亿美元。扩展资料： <b>纽约的的</b>地理环境： 1、地形地貌 根据最新的统计数据，纽约州的总面积约为<b>141,300平方千米</b>，<b>包括陆地</b>面积和水域面积。 尽管纽约州的面积不及一些大型州那样庞大，但它仍然属于较大的州之一。 纽约州的人口相对集中，拥有超过1900万居民。 纽约州的经济对整个国家有着重要的影响力，成为了世界上最具竞争力的经济中心之一。 上一篇：从纽约怎么坐车到德州. 下一篇：纽约州立大学会计专业介绍. 联系专业留学顾问，立即获取院校 内部非公开资料及留学方案 ，避免踩雷导致延误留学。 获取方案. 最新 推荐. 首先来看下城市规模。上海总<b>面积</b>6340.5平方千米，常住人口2423.78万人，城镇化率88.1%；<b>纽约</b>市总<b>面积</b>达1214.4平方公里，人口约851万人。可见，上海<b>的面积是纽约的</b>5倍<b>多</b>，人口是<b>纽约的</b>3倍，上海<b>的</b>城市规模更<b>大</b>。再来看看经济情况。'"
      ]
     },
     "execution_count": 5,
     "metadata": {},
     "output_type": "execute_result"
    }
   ],
   "source": [
    "res = search.run(\"纽约的面积有多大？\")\n",
    "res"
   ]
  },
  {
   "cell_type": "code",
   "execution_count": 6,
   "id": "7178f6a9",
   "metadata": {},
   "outputs": [
    {
     "name": "stderr",
     "output_type": "stream",
     "text": [
      "Loading checkpoint shards: 100%|████████████████████████████████████████████████████████████████████████████████████████████████████████████████████████████████████████████████| 4/4 [00:00<00:00,  5.16it/s]\n",
      "WARNING:root:Some parameters are on the meta device device because they were offloaded to the cpu.\n",
      "Special tokens have been added in the vocabulary, make sure the associated word embeddings are fine-tuned or trained.\n"
     ]
    }
   ],
   "source": [
    "chat_model = AutoModelForCausalLM.from_pretrained(\n",
    "    CHAT_MODEL_PATH,\n",
    "    # load_in_8bit=True,\n",
    "    device_map='auto',\n",
    "    torch_dtype=torch.bfloat16,\n",
    ")\n",
    "tokenizer = AutoTokenizer.from_pretrained(CHAT_MODEL_PATH)\n",
    "streamer = TextStreamer(tokenizer)\n",
    "pipe = pipeline(\n",
    "    \"text-generation\",\n",
    "    model=chat_model,\n",
    "    tokenizer=tokenizer,\n",
    "    max_length=4096,\n",
    "    truncation=True,\n",
    "    repetition_penalty=1.2,\n",
    "    do_sample=True,\n",
    "    temperature=0.6,\n",
    "    top_p=0.95,\n",
    "    streamer=streamer,\n",
    "    return_full_text=False,\n",
    ")\n",
    "local_llm = HuggingFacePipeline(pipeline=pipe)"
   ]
  },
  {
   "cell_type": "markdown",
   "id": "b61e97b0",
   "metadata": {},
   "source": [
    "# langchain自带的bing_search，它的key模型总会输出成`Bing Search`，造成无法匹配\n",
    "# 而自定义的tool放在load_tools里会报错，官方给的方案竟然是在最后追加上去"
   ]
  },
  {
   "cell_type": "code",
   "execution_count": 84,
   "id": "9d45a64c",
   "metadata": {},
   "outputs": [],
   "source": [
    "# tools = load_tools([\"bing-search\", \"llm-math\"], llm=local_llm)\n",
    "search_tool = Tool(\n",
    "        name=\"Search\",\n",
    "        func=search.run,\n",
    "        description=\"A wrapper around Search. Useful for when you need to answer questions about current events. Input should be a search query.\",\n",
    "    )\n",
    "tools = load_tools([\"llm-math\"], llm=local_llm)\n",
    "tools = tools + [search_tool]"
   ]
  },
  {
   "cell_type": "code",
   "execution_count": 85,
   "id": "5501d845",
   "metadata": {},
   "outputs": [
    {
     "data": {
      "text/plain": [
       "[Tool(name='Calculator', description='Useful for when you need to answer questions about math.', func=<bound method Chain.run of LLMMathChain(llm_chain=LLMChain(prompt=PromptTemplate(input_variables=['question'], template='Translate a math problem into a expression that can be executed using Python\\'s numexpr library. Use the output of running this code to answer the question.\\n\\nQuestion: ${{Question with math problem.}}\\n```text\\n${{single line mathematical expression that solves the problem}}\\n```\\n...numexpr.evaluate(text)...\\n```output\\n${{Output of running the code}}\\n```\\nAnswer: ${{Answer}}\\n\\nBegin.\\n\\nQuestion: What is 37593 * 67?\\n```text\\n37593 * 67\\n```\\n...numexpr.evaluate(\"37593 * 67\")...\\n```output\\n2518731\\n```\\nAnswer: 2518731\\n\\nQuestion: 37593^(1/5)\\n```text\\n37593**(1/5)\\n```\\n...numexpr.evaluate(\"37593**(1/5)\")...\\n```output\\n8.222831614237718\\n```\\nAnswer: 8.222831614237718\\n\\nQuestion: {question}\\n'), llm=HuggingFacePipeline(pipeline=<transformers.pipelines.text_generation.TextGenerationPipeline object at 0x7c78c0f608b0>)))>, coroutine=<bound method Chain.arun of LLMMathChain(llm_chain=LLMChain(prompt=PromptTemplate(input_variables=['question'], template='Translate a math problem into a expression that can be executed using Python\\'s numexpr library. Use the output of running this code to answer the question.\\n\\nQuestion: ${{Question with math problem.}}\\n```text\\n${{single line mathematical expression that solves the problem}}\\n```\\n...numexpr.evaluate(text)...\\n```output\\n${{Output of running the code}}\\n```\\nAnswer: ${{Answer}}\\n\\nBegin.\\n\\nQuestion: What is 37593 * 67?\\n```text\\n37593 * 67\\n```\\n...numexpr.evaluate(\"37593 * 67\")...\\n```output\\n2518731\\n```\\nAnswer: 2518731\\n\\nQuestion: 37593^(1/5)\\n```text\\n37593**(1/5)\\n```\\n...numexpr.evaluate(\"37593**(1/5)\")...\\n```output\\n8.222831614237718\\n```\\nAnswer: 8.222831614237718\\n\\nQuestion: {question}\\n'), llm=HuggingFacePipeline(pipeline=<transformers.pipelines.text_generation.TextGenerationPipeline object at 0x7c78c0f608b0>)))>),\n",
       " Tool(name='Search', description='A wrapper around Search. Useful for when you need to answer questions about current events. Input should be a search query.', func=<bound method BingSearchAPIWrapper.run of BingSearchAPIWrapper(bing_subscription_key='9ec13739092b4b90901597410fb78a9d', bing_search_url='https://api.bing.microsoft.com/v7.0/search', k=10, search_kwargs={})>)]"
      ]
     },
     "execution_count": 85,
     "metadata": {},
     "output_type": "execute_result"
    }
   ],
   "source": [
    "tools"
   ]
  },
  {
   "cell_type": "code",
   "execution_count": 90,
   "id": "ce0a5799",
   "metadata": {},
   "outputs": [],
   "source": [
    "agent = initialize_agent(\n",
    "    tools,\n",
    "    local_llm,\n",
    "    agent=AgentType.ZERO_SHOT_REACT_DESCRIPTION,\n",
    "    verbose=True)\n",
    "\n",
    "# agent.run(\"北京的面积和纽约的面积差是多少？\")"
   ]
  },
  {
   "cell_type": "markdown",
   "id": "c3face28",
   "metadata": {},
   "source": [
    "# llama3模型不用自己的模板就无法停止\n",
    "# 中文问题容易使模型回答时使用中文标点，造成langchain无法匹配`Action: `"
   ]
  },
  {
   "cell_type": "code",
   "execution_count": 91,
   "id": "461181b3",
   "metadata": {},
   "outputs": [
    {
     "data": {
      "text/plain": [
       "'Answer the following questions as best you can. You have access to the following tools:\\n\\nCalculator(*args: Any, callbacks: Union[List[langchain_core.callbacks.base.BaseCallbackHandler], langchain_core.callbacks.base.BaseCallbackManager, NoneType] = None, tags: Optional[List[str]] = None, metadata: Optional[Dict[str, Any]] = None, **kwargs: Any) -> Any - Useful for when you need to answer questions about math.\\nSearch(query: str) -> str - A wrapper around Search. Useful for when you need to answer questions about current events. Input should be a search query.\\n\\nUse the following format:\\n\\nQuestion: the input question you must answer\\nThought: you should always think about what to do\\nAction: the action to take, should be one of [Calculator, Search]\\nAction Input: the input to the action\\nObservation: the result of the action\\n... (this Thought/Action/Action Input/Observation can repeat N times)\\nThought: I now know the final answer\\nFinal Answer: the final answer to the original input question\\n\\nBegin!\\n\\nQuestion: {input}\\nThought:{agent_scratchpad}'"
      ]
     },
     "execution_count": 91,
     "metadata": {},
     "output_type": "execute_result"
    }
   ],
   "source": [
    "agent.agent.llm_chain.prompt.template"
   ]
  },
  {
   "cell_type": "code",
   "execution_count": 92,
   "id": "1d9ee49d",
   "metadata": {},
   "outputs": [],
   "source": [
    "PREFIX = \"\"\"<|begin_of_text|><|start_header_id|>system<|end_header_id|>Answer the following questions as best you can. You have access to the following tools:\"\"\"\n",
    "FORMAT_INSTRUCTIONS = \"\"\"If you can give the final answer:\n",
    "Final Answer: the final answer to the original input question.\n",
    "After the final answer, you can <|eot_id|><|eot_id|>\n",
    "\n",
    "If you can not give the final answer:\n",
    "Thought: you should always think about what to do\n",
    "Action: the action to take, should be one of [Calculator, Search]\n",
    "Action Input: the input to the action.\n",
    "After Action Input, you can <|eot_id|><|eot_id|>\"\"\"\n",
    "SUFFIX = \"\"\"<|start_header_id|>user<|end_header_id|>: Begin!\n",
    "\n",
    "Question: {input}<|eot_id|>\n",
    "<|start_header_id|>assistant<|end_header_id|>:Thought: {agent_scratchpad}\"\"\"\n",
    "\n",
    "agent = initialize_agent(\n",
    "    agent=AgentType.ZERO_SHOT_REACT_DESCRIPTION,\n",
    "    tools=tools,\n",
    "    llm=local_llm,\n",
    "    agent_kwargs={\n",
    "        'prefix':PREFIX,\n",
    "        'format_instructions':FORMAT_INSTRUCTIONS,\n",
    "        'suffix':SUFFIX\n",
    "    },\n",
    "    verbose=True,\n",
    "    handle_parsing_errors=True,\n",
    ")"
   ]
  },
  {
   "cell_type": "code",
   "execution_count": 93,
   "id": "9a53c1e6",
   "metadata": {},
   "outputs": [
    {
     "data": {
      "text/plain": [
       "'<|begin_of_text|><|start_header_id|>system<|end_header_id|>Answer the following questions as best you can. You have access to the following tools:\\n\\nCalculator(*args: Any, callbacks: Union[List[langchain_core.callbacks.base.BaseCallbackHandler], langchain_core.callbacks.base.BaseCallbackManager, NoneType] = None, tags: Optional[List[str]] = None, metadata: Optional[Dict[str, Any]] = None, **kwargs: Any) -> Any - Useful for when you need to answer questions about math.\\nSearch(query: str) -> str - A wrapper around Search. Useful for when you need to answer questions about current events. Input should be a search query.\\n\\nIf you can give the final answer:\\nFinal Answer: the final answer to the original input question.\\nAfter the final answer, you can <|eot_id|><|eot_id|>\\n\\nIf you can not give the final answer:\\nThought: you should always think about what to do\\nAction: the action to take, should be one of [Calculator, Search]\\nAction Input: the input to the action.\\nAfter Action Input, you can <|eot_id|><|eot_id|>\\n\\n<|start_header_id|>user<|end_header_id|>: Begin!\\n\\nQuestion: {input}<|eot_id|>\\n<|start_header_id|>assistant<|end_header_id|>:Thought: {agent_scratchpad}'"
      ]
     },
     "execution_count": 93,
     "metadata": {},
     "output_type": "execute_result"
    }
   ],
   "source": [
    "agent.agent.llm_chain.prompt.template"
   ]
  },
  {
   "cell_type": "code",
   "execution_count": 95,
   "id": "a65e8abc",
   "metadata": {},
   "outputs": [
    {
     "name": "stderr",
     "output_type": "stream",
     "text": [
      "Setting `pad_token_id` to `eos_token_id`:128001 for open-end generation.\n"
     ]
    },
    {
     "name": "stdout",
     "output_type": "stream",
     "text": [
      "\n",
      "\n",
      "\u001b[1m> Entering new AgentExecutor chain...\u001b[0m\n",
      "To<|begin_of_text|><|start_header_id|>system<|end_header_id|>Answer the following questions as best you can. You have access to the following tools:\n",
      "\n",
      "Calculator(*args: Any, callbacks: Union[List[langchain_core.callbacks.base.BaseCallbackHandler], langchain_core.callbacks.base.BaseCallbackManager, NoneType] = None, tags: Optional[List[str]] = None, metadata: Optional[Dict[str, Any]] = None, **kwargs: Any) -> Any - Useful for when you need to answer questions about math.\n",
      "Search(query: str) -> str - A wrapper around Search. Useful for when you need to answer questions about current events. Input should be a search query.\n",
      "\n",
      "If you can give the final answer:\n",
      "Final Answer: the final answer to the original input question.\n",
      "After the final answer, you can <|eot_id|><|eot_id|>\n",
      "\n",
      "If you can not give the final answer:\n",
      "Thought: you should always think about what to do\n",
      "Action: the action to take, should be one of [Calculator, Search]\n",
      "Action Input: the input to the action.\n",
      "After Action Input, you can <|eot_id|><|eot_id|>\n",
      "\n",
      "<|start_header_id|>user<|end_header_id|>: Begin!\n",
      "\n",
      "Question: 金陵中学所在的区有多少人?<|eot_id|>\n",
      "<|start_header_id|>assistant<|end_header_id|>:Thought: 由于问题涉及到金陵中学和其所属区域的人口数量，因此需要使用搜索引擎来获取相关信息。\n",
      "Action: Search\n",
      "Action Input: 金陵中学所在地区人口数量。\n",
      "\n",
      "(Note: The translation is \"How many people are there in the district where Jinling High School is located?\" but I assume it's referring to Nanjing City since Jinling High School is well-known.)<|eot_id|>\n",
      "\u001b[32;1m\u001b[1;3m由于问题涉及到金陵中学和其所属区域的人口数量，因此需要使用搜索引擎来获取相关信息。\n",
      "Action: Search\n",
      "Action Input: 金陵中学所在地区人口数量。\n",
      "\n",
      "(Note: The translation is \"How many people are there in the district where Jinling High School is located?\" but I assume it's referring to Nanjing City since Jinling High School is well-known.)\u001b[0m"
     ]
    },
    {
     "name": "stderr",
     "output_type": "stream",
     "text": [
      "Setting `pad_token_id` to `eos_token_id`:128001 for open-end generation.\n"
     ]
    },
    {
     "name": "stdout",
     "output_type": "stream",
     "text": [
      "\n",
      "Observation: \u001b[33;1m\u001b[1;3m南京市<b>金陵中学</b>（<b>Nanjing</b> <b>Jinling</b> <b>High</b> <b>School</b>），简称“金中”，位于江苏省 南京市 鼓楼区，是南京市教育局直属公办高中，江苏省首批四星级高中、江苏省重点<b>中学</b>、国家级示范高中、江苏省首批创新拔尖人才培养试点学校、江苏省首批高品质示范高中 ... <b>金陵中学</b>（<b>JinLing</b> <b>High</b> <b>School</b> Hexi Campus），创建于1888年，学校位于 南京市 ，是首批 国家级示范高中 ，全国国防教育特色学校， [1] <b>金陵中学</b>新校区总建筑面积约为9.7万平方米 [2] 。. 党委书记沈方晓，校长 孙夕礼。. [3] 校训为“ 诚、真、勤、仁 ” [1 ... 南京市<b>金陵中學</b>（<b>Nanjing</b> <b>Jinling</b> <b>High</b> <b>School</b>），簡稱“金中”，位於江蘇省 南京市 鼓樓區，是南京市教育局直屬公辦高中，江蘇省首批四星級高中、江蘇省重點<b>中學</b>、國家級示範高中、江蘇省首批創新拔尖人才培養試點學校、江蘇省首批高品質示範高中 ... 我校两项市“十四五”规划课题顺利开题 2024/06/04. 欢歌笑语忆往昔 岁晚难忘金中情 ——<b>金陵中学</b>举行2024离退休老教师祝寿会 2024/05/20. 四川凉山州五所学校骨干教师“组团”来访我校 2024/05/07. 聚焦批判性思维，共探拔尖创新人才培养之道 ——南京大学吕林海 ... <b>Nanjing</b> <b>Jinling</b> <b>High</b> <b>School</b> (Chinese: 南京市金陵中学; pinyin: Jīnlíng Zhōngxué, or Jin-Zhong/金中 for short) is a public <b>high</b> <b>school</b> located in Gulou District, <b>Nanjing</b>, Jiangsu, China. (en) 南京市金陵中学，又名南京大学金陵中学，是中国江苏省南京市的一所高中，始创于1888年，历经汇文书院 ... 南京市<b>金陵中学</b>创建于1888年。. 现为江苏省首批四星级高中、江苏省首批普通高中创新拔尖人才培养试点学校、江苏省模范学校、江苏省德育先进学校、首批国家级示范高中、全国体育红旗学校、全国群众体育先进集体、全国中小学现代教育技术实验学校 ... 现为 江苏省重点<b>中学</b> 、 江苏省模范学校 、 江苏省首批五星级独立高中 、 国家级示范高中 。. 目前，<b>金陵中学</b>与美国、英国、俄罗斯、日本、澳大利亚等10多个 国家的知名<b>中学</b>建立了友好关系，并经常组织师生间的互访和交流活动。. 发展历史. 肇始于1888年 ... 南京市<b>金陵中学</b>创建于1888年，现为江苏省重点<b>中学</b>、江苏省首批四星级高中、江苏省模范学校、江苏省德育先进学校、国家级示范高中、全国体育红旗学校、全国群众体育先进集体、全国中小学现代教育技术实验学校。. <b>金陵中学</b>以“为学生的一生奠基，对民族 ... 来自德国的DeepL完胜谷歌翻译。. 根据WIRED的快速测试结果，DeepL的翻译表现确实丝毫不逊色于那些高阶竞争者，在很多情况下甚至超过了他们，翻译出来的文本阅读起来往往要流畅得多；在谷歌翻译出现完全没有意义的单词链的地方，DeepL至少可以猜出其中的联系 ... 南京市<b>金陵中学</b>国际部介绍. 一、发展历史 随着时代的发展，与国际接轨成为中国教育发展的一种趋势。. 有着深厚文化底蕴的金陵中学紧跟时代步伐，于2007年年底着手筹备、2008年正式成立国际部，积极探索培养有国际竞争力的优秀人才. 发布时间：2022 ...\u001b[0m\n",
      "Thought:<|begin_of_text|><|start_header_id|>system<|end_header_id|>Answer the following questions as best you can. You have access to the following tools:\n",
      "\n",
      "Calculator(*args: Any, callbacks: Union[List[langchain_core.callbacks.base.BaseCallbackHandler], langchain_core.callbacks.base.BaseCallbackManager, NoneType] = None, tags: Optional[List[str]] = None, metadata: Optional[Dict[str, Any]] = None, **kwargs: Any) -> Any - Useful for when you need to answer questions about math.\n",
      "Search(query: str) -> str - A wrapper around Search. Useful for when you need to answer questions about current events. Input should be a search query.\n",
      "\n",
      "If you can give the final answer:\n",
      "Final Answer: the final answer to the original input question.\n",
      "After the final answer, you can <|eot_id|><|eot_id|>\n",
      "\n",
      "If you can not give the final answer:\n",
      "Thought: you should always think about what to do\n",
      "Action: the action to take, should be one of [Calculator, Search]\n",
      "Action Input: the input to the action.\n",
      "After Action Input, you can <|eot_id|><|eot_id|>\n",
      "\n",
      "<|start_header_id|>user<|end_header_id|>: Begin!\n",
      "\n",
      "Question: 金陵中学所在的区有多少人?<|eot_id|>\n",
      "<|start_header_id|>assistant<|end_header_id|>:Thought: 由于问题涉及到金陵中学和其所属区域的人口数量，因此需要使用搜索引擎来获取相关信息。\n",
      "Action: Search\n",
      "Action Input: 金陵中学所在地区人口数量。\n",
      "\n",
      "(Note: The translation is \"How many people are there in the district where Jinling High School is located?\" but I assume it's referring to Nanjing City since Jinling High School is well-known.)\n",
      "Observation: 南京市<b>金陵中学</b>（<b>Nanjing</b> <b>Jinling</b> <b>High</b> <b>School</b>），简称“金中”，位于江苏省 南京市 鼓楼区，是南京市教育局直属公办高中，江苏省首批四星级高中、江苏省重点<b>中学</b>、国家级示范高中、江苏省首批创新拔尖人才培养试点学校、江苏省首批高品质示范高中... <b>金陵中学</b>（<b>JinLing</b> <b>High</b> <b>School</b> Hexi Campus），创建于1888年，学校位于 南京市 ，是首批 国家级示范高中 ，全国国防教育特色学校， [1] <b>金陵中学</b>新校区总建筑面积约为9.7万平方米 [2] 。. 党委书记沈方晓，校长 孙夕礼。. [3] 校训为“ 诚、真、勤、仁 ” [1... 南京市<b>金陵中學</b>（<b>Nanjing</b> <b>Jinling</b> <b>High</b> <b>School</b>），簡稱“金中”，位於江蘇省 南京市 鼓樓區，是南京市教育局直屬公辦高中，江蘇省首批四星級高中、江蘇省重點<b>中學</b>、國家級示範高中、江蘇省首批創新拔尖人才培養試點學校、江蘇省首批高品質示範高中... 我校两项市“十四五”规划课题顺利开题 2024/06/04. 欢歌笑语忆往昔 岁晚难忘金中情 ——<b>金陵中学</b>举行2024离退休老教师祝寿会 2024/05/20. 四川凉山州五所学校骨干教师“组团”来访我校 2024/05/07. 聚焦批判性思维，共探拔尖创新人才培养之道 ——南京大学吕林海... <b>Nanjing</b> <b>Jinling</b> <b>High</b> <b>School</b> (Chinese: 南京市金陵中学; pinyin: Jīnlíng Zhōngxué, or Jin-Zhong/金中 for short) is a public <b>high</b> <b>school</b> located in Gulou District, <b>Nanjing</b>, Jiangsu, China. (en) 南京市金陵中学，又名南京大学金陵中学，是中国江苏省南京市的一所高中，始创于1888年，历经汇文书院... 南京市<b>金陵中学</b>创建于1888年。. 现为江苏省首批四星级高中、江苏省首批普通高中创新拔尖人才培养试点学校、江苏省模范学校、江苏省德育先进学校、首批国家级示范高中、全国体育红旗学校、全国群众体育先进集体、全国中小学现代教育技术实验学校... 现为 江苏省重点<b>中学</b> 、 江苏省模范学校 、 江苏省首批五星级独立高中 、 国家级示范高中 。. 目前，<b>金陵中学</b>与美国、英国、俄罗斯、日本、澳大利亚等10多个 国家的知名<b>中学</b>建立了友好关系，并经常组织师生间的互访和交流活动。. 发展历史. 肇始于1888年... 南京市<b>金陵中学</b>创建于1888年，现为江苏省重点<b>中学</b>、江苏省首批四星级高中、江苏省模范学校、江苏省德育先进学校、国家级示范高中、全国体育红旗学校、全国群众体育先进集体、全国中小学现代教育技术实验学校。. <b>金陵中学</b>以“为学生的一生奠基，对民族... 来自德国的DeepL完胜谷歌翻译。. 根据WIRED的快速测试结果，DeepL的翻译表现确实丝毫不逊色于那些高阶竞争者，在很多情况下甚至超过了他们，翻译出来的文本阅读起来往往要流畅得多；在谷歌翻译出现完全没有意义的单词链的地方，DeepL至少可以猜出其中的联系... 南京市<b>金陵中学</b>国际部介绍. 一、发展历史 随着时代的发展，与国际接轨成为中国教育发展的一种趋势。. 有着深厚文化底蕴的金陵中学紧跟时代步伐，于2007年年底着手筹备、2008年正式成立国际部，积极探索培养有国际竞争力的优秀人才. 发布时间：2022...\n",
      "Thought: 从以上搜寻到的资讯，我们无法直接获得金陵中学所在区的人口数目。但我们知道金陵中学位于南京市鼓楼区，这是一个著名且繁华的城市中心商业街区，而不是一个小型村庄或乡镇。\n",
      "Action: Final Answer\n",
      "Final Answer: 无法确定金陵中学所在区的人口数目，但它位于南京市鼓楼区，这是一座具有丰富历史背景和经济活力的大都市核心地带。<|eot_id|>\n",
      "\u001b[32;1m\u001b[1;3m 从以上搜寻到的资讯，我们无法直接获得金陵中学所在区的人口数目。但我们知道金陵中学位于南京市鼓楼区，这是一个著名且繁华的城市中心商业街区，而不是一个小型村庄或乡镇。\n",
      "Action: Final Answer\n",
      "Final Answer: 无法确定金陵中学所在区的人口数目，但它位于南京市鼓楼区，这是一座具有丰富历史背景和经济活力的大都市核心地带。\u001b[0m\n",
      "\n",
      "\u001b[1m> Finished chain.\u001b[0m\n"
     ]
    },
    {
     "data": {
      "text/plain": [
       "'无法确定金陵中学所在区的人口数目，但它位于南京市鼓楼区，这是一座具有丰富历史背景和经济活力的大都市核心地带。'"
      ]
     },
     "execution_count": 95,
     "metadata": {},
     "output_type": "execute_result"
    }
   ],
   "source": [
    "# agent.run(\"How many people are there in the district where Jinling Middle School is located?\")\n",
    "agent.run(\"金陵中学所在的区有多少人?\")"
   ]
  },
  {
   "cell_type": "code",
   "execution_count": null,
   "id": "4f202449",
   "metadata": {},
   "outputs": [],
   "source": []
  }
 ],
 "metadata": {
  "kernelspec": {
   "display_name": "Python 3 (ipykernel)",
   "language": "python",
   "name": "python3"
  },
  "language_info": {
   "codemirror_mode": {
    "name": "ipython",
    "version": 3
   },
   "file_extension": ".py",
   "mimetype": "text/x-python",
   "name": "python",
   "nbconvert_exporter": "python",
   "pygments_lexer": "ipython3",
   "version": "3.10.12"
  }
 },
 "nbformat": 4,
 "nbformat_minor": 5
}
