{
 "cells": [
  {
   "cell_type": "code",
   "execution_count": 1,
   "id": "fb2defa1",
   "metadata": {
    "jupyter": {
     "is_executing": true
    }
   },
   "outputs": [
    {
     "name": "stderr",
     "output_type": "stream",
     "text": [
      "/usr/local/lib/python3.10/dist-packages/tqdm/auto.py:21: TqdmWarning: IProgress not found. Please update jupyter and ipywidgets. See https://ipywidgets.readthedocs.io/en/stable/user_install.html\n",
      "  from .autonotebook import tqdm as notebook_tqdm\n"
     ]
    }
   ],
   "source": [
    "from typing import Any, Dict, List\n",
    "import sys\n",
    "\n",
    "import torch\n",
    "from transformers import AutoModelForCausalLM, AutoTokenizer\n",
    "from langchain.prompts import ChatPromptTemplate\n",
    "from langchain_huggingface.llms import HuggingFacePipeline\n",
    "from langchain.schema.runnable import RunnablePassthrough\n",
    "from langchain.schema.output_parser import StrOutputParser\n",
    "from transformers import pipeline, TextStreamer\n",
    "from langchain.prompts import PromptTemplate\n",
    "from langchain.chains import LLMChain\n",
    "from langchain.chains import SequentialChain\n",
    "from langchain.chains import SimpleSequentialChain\n",
    "from langchain_openai import ChatOpenAI\n",
    "from langchain_core.outputs import LLMResult\n",
    "from langchain.callbacks.streaming_stdout import StreamingStdOutCallbackHandler"
   ]
  },
  {
   "cell_type": "code",
   "execution_count": 2,
   "id": "ce1b2c1e",
   "metadata": {},
   "outputs": [],
   "source": [
    "# CHAT_MODEL_PATH = \"/mnt/nfs/zsd_server/models/huggingface/chinese-alpaca-2-7b/\"\n",
    "CHAT_MODEL_PATH = \"/mnt/nfs/zsd_server/models/huggingface/llama-3-chinese-8b-instruct-v3/\""
   ]
  },
  {
   "cell_type": "code",
   "execution_count": 3,
   "id": "504d1546",
   "metadata": {},
   "outputs": [],
   "source": [
    "# chat_model = AutoModelForCausalLM.from_pretrained(\n",
    "#     CHAT_MODEL_PATH,\n",
    "#     # load_in_8bit=True,\n",
    "#     device_map='auto',\n",
    "#     torch_dtype=torch.bfloat16,\n",
    "# )\n",
    "# tokenizer = AutoTokenizer.from_pretrained(CHAT_MODEL_PATH)"
   ]
  },
  {
   "cell_type": "code",
   "execution_count": 4,
   "id": "c531473c",
   "metadata": {},
   "outputs": [],
   "source": [
    "# streamer = TextStreamer(tokenizer)\n",
    "# pipe = pipeline(\n",
    "#     \"text-generation\",\n",
    "#     model=chat_model,\n",
    "#     tokenizer=tokenizer,\n",
    "#     max_length=4096,\n",
    "#     truncation=True,\n",
    "#     repetition_penalty=1.2,\n",
    "#     do_sample=True,\n",
    "#     temperature=0.6,\n",
    "#     top_p=0.95,\n",
    "#     streamer=streamer,\n",
    "#     return_full_text=False,\n",
    "# )\n",
    "# local_llm = HuggingFacePipeline(pipeline=pipe)"
   ]
  },
  {
   "cell_type": "code",
   "execution_count": 5,
   "id": "33a4714d",
   "metadata": {},
   "outputs": [],
   "source": [
    "class MyStreamingStdOutCallbackHandler(StreamingStdOutCallbackHandler):\n",
    "    def on_llm_end(self, response: LLMResult, **kwargs: Any) -> None:\n",
    "        sys.stdout.write(\"\\n\\n\")\n",
    "        sys.stdout.flush()\n",
    "\n",
    "    # def on_chat_model_start(\n",
    "    #     self,\n",
    "    #     serialized: Dict[str, Any],\n",
    "    #     messages: List[List[BaseMessage]],\n",
    "    #     **kwargs: Any,\n",
    "    # ) -> None:\n",
    "    #     sys.stdout.write(f\"{messages}\\n\\n\")\n",
    "    #     sys.stdout.flush()"
   ]
  },
  {
   "cell_type": "code",
   "execution_count": 6,
   "id": "69dfeaa4",
   "metadata": {},
   "outputs": [],
   "source": [
    "callbacks = [MyStreamingStdOutCallbackHandler()]\n",
    "local_llm = ChatOpenAI(\n",
    "    model_name=\"llama-3-chinese-8b-instruct-v3-f16\",\n",
    "    openai_api_key=\"your-api-key\",\n",
    "    openai_api_base=\"http://localhost:11434/v1/\",\n",
    "    temperature=0.6,\n",
    "    streaming=bool(callbacks),\n",
    "    callbacks=callbacks,\n",
    ")"
   ]
  },
  {
   "cell_type": "code",
   "execution_count": 7,
   "id": "68b53648",
   "metadata": {},
   "outputs": [
    {
     "name": "stderr",
     "output_type": "stream",
     "text": [
      "/usr/local/lib/python3.10/dist-packages/langchain_core/_api/deprecation.py:139: LangChainDeprecationWarning: The class `LLMChain` was deprecated in LangChain 0.1.17 and will be removed in 0.3.0. Use RunnableSequence, e.g., `prompt | llm` instead.\n",
      "  warn_deprecated(\n",
      "/usr/local/lib/python3.10/dist-packages/langchain_core/_api/deprecation.py:139: LangChainDeprecationWarning: The method `Chain.run` was deprecated in langchain 0.1.0 and will be removed in 0.3.0. Use invoke instead.\n",
      "  warn_deprecated(\n"
     ]
    },
    {
     "name": "stdout",
     "output_type": "stream",
     "text": [
      "以下是从文章中提取的关键事实：\n",
      "\n",
      "1. 阿里云在2009年成立，并提出将计算作为公共服务。\n",
      "2. 阿里云一直致力于通过弹性和自服务能力支持企业创新。\n",
      "3. 从2016年开始，阿里云保持中国、亚太地区第一和全球第三市场地位。\n",
      "4. 目前，阿里云已拥有超过400万个客户，其中包括60%A股上市公司。"
     ]
    },
    {
     "name": "stderr",
     "output_type": "stream",
     "text": [
      "Error in MyStreamingStdOutCallbackHandler.on_llm_end callback: NameError(\"name 'sys' is not defined\")\n"
     ]
    },
    {
     "data": {
      "text/plain": [
       "'以下是从文章中提取的关键事实：\\n\\n1. 阿里云在2009年成立，并提出将计算作为公共服务。\\n2. 阿里云一直致力于通过弹性和自服务能力支持企业创新。\\n3. 从2016年开始，阿里云保持中国、亚太地区第一和全球第三市场地位。\\n4. 目前，阿里云已拥有超过400万个客户，其中包括60%A股上市公司。'"
      ]
     },
     "execution_count": 7,
     "metadata": {},
     "output_type": "execute_result"
    }
   ],
   "source": [
    "text_contents = '''自2009年创立之初，阿里云就提出“云计算，\n",
    "让计算成为公共服务”，并坚持通过云的弹性和自服务能力支持企业敏捷创新。\n",
    "自2016年起，阿里云持续保持中国第一、亚太第一、全球第三的市场地位。\n",
    "当前阿里云服务超400万客户，包括60%A股上市公司。\n",
    "'''\n",
    "fact_template = PromptTemplate(\n",
    "    input_variables=[\"text_input\"],\n",
    "    template=(\"\"\"<|begin_of_text|><|start_header_id|>system<|end_header_id|>你是一个分析师。请从本文中提取关键事实。不要包括意见。给每个事实一个数字，并保持简短的句子。<|eot_id|>\n",
    "<|start_header_id|>user<|end_header_id|>: {text_input}<|eot_id|>\n",
    "<|start_header_id|>assistant<|end_header_id|>:\n",
    "\"\"\"),\n",
    ")\n",
    "\n",
    "fact_extraction_chain = LLMChain(\n",
    "    llm=local_llm, prompt=fact_template, output_key=\"facts\")\n",
    "\n",
    "facts = fact_extraction_chain.run(text_contents)\n",
    "facts"
   ]
  },
  {
   "cell_type": "code",
   "execution_count": 8,
   "id": "3327c61c",
   "metadata": {},
   "outputs": [
    {
     "name": "stdout",
     "output_type": "stream",
     "text": [
      "阿里云是一家成立于2009年的计算服务提供商，其主打产品是基于云的信息技术解决方案。自创建以来，它一直致力于支持企业创新，并推出弹性和自服务能力，以满足用户多样化的需求。此外，阿里云已经成功地巩固了在中国、亚太地区第一以及全球第三市场的地位。这是一个强大的优势，为公司赢得了广泛的认可。截至目前，阿里云已拥有超过400万个客户，其中包括60%的A股上市公司，这再次表明了它的卓越能力和价值在投资者心目中的重要地位。因此，我们有理由相信阿里云将继续保持其强大的市场竞争力，并为用户带来更先进、更可靠、高效率的计算服务解决方案。"
     ]
    },
    {
     "name": "stderr",
     "output_type": "stream",
     "text": [
      "Error in MyStreamingStdOutCallbackHandler.on_llm_end callback: NameError(\"name 'sys' is not defined\")\n"
     ]
    },
    {
     "data": {
      "text/plain": [
       "'阿里云是一家成立于2009年的计算服务提供商，其主打产品是基于云的信息技术解决方案。自创建以来，它一直致力于支持企业创新，并推出弹性和自服务能力，以满足用户多样化的需求。此外，阿里云已经成功地巩固了在中国、亚太地区第一以及全球第三市场的地位。这是一个强大的优势，为公司赢得了广泛的认可。截至目前，阿里云已拥有超过400万个客户，其中包括60%的A股上市公司，这再次表明了它的卓越能力和价值在投资者心目中的重要地位。因此，我们有理由相信阿里云将继续保持其强大的市场竞争力，并为用户带来更先进、更可靠、高效率的计算服务解决方案。'"
      ]
     },
     "execution_count": 8,
     "metadata": {},
     "output_type": "execute_result"
    }
   ],
   "source": [
    "role_template = PromptTemplate(\n",
    "    input_variables=[\"facts\"],\n",
    "    template=(\"\"\"<|begin_of_text|><|start_header_id|>system<|end_header_id|>您是一名数据分析师。请根据以下事实清单，用中文为投资者写一个简短的段落。不要遗漏关键信息。<|eot_id|>\n",
    "<|start_header_id|>user<|end_header_id|>: {facts}<|eot_id|>\n",
    "<|start_header_id|>assistant<|end_header_id|>:\n",
    "\"\"\"),\n",
    ")\n",
    "\n",
    "data_analysis_chain = LLMChain(llm=local_llm, prompt=role_template, output_key=\"analysis\")\n",
    "\n",
    "data_analysis_facts = data_analysis_chain.run(facts)\n",
    "data_analysis_facts"
   ]
  },
  {
   "cell_type": "code",
   "execution_count": 9,
   "id": "10e5c741",
   "metadata": {},
   "outputs": [
    {
     "name": "stdout",
     "output_type": "stream",
     "text": [
      "以下是将事实列表转换为知识图谱三元组的结果：\n",
      "\n",
      "（阿里云，成立于，2009年）\n",
      "（阿里云，提出了，计算作为公共服务）\n",
      "\n",
      "（阿里云，致力于，通过弹性和自服务能力支持企业创新）\n",
      "\n",
      "（阿里云，保持市场地位，从，2016年开始）\n",
      "（阿里云，保持中国第一，亚太地区第一）\n",
      "（阿里云，保持全球第三）\n",
      "\n",
      "（阿里云，有客户超过400万个）\n",
      "（阿里云，包括60%，在A股上市公司之中）"
     ]
    },
    {
     "name": "stderr",
     "output_type": "stream",
     "text": [
      "Error in MyStreamingStdOutCallbackHandler.on_llm_end callback: NameError(\"name 'sys' is not defined\")\n"
     ]
    }
   ],
   "source": [
    "knowledge_template = PromptTemplate(\n",
    "    input_variables=[\"facts\"],\n",
    "    template=(\"\"\"<|begin_of_text|><|start_header_id|>system<|end_header_id|>您是一名数据分析师。请用中文，将以下事实列表转换为知识图谱的三元组。<|eot_id|>\n",
    "<|start_header_id|>user<|end_header_id|>: {facts}<|eot_id|>\n",
    "<|start_header_id|>assistant<|end_header_id|>:\n",
    "\"\"\")\n",
    ")\n",
    "\n",
    "knowledge_chain = LLMChain(llm=local_llm, prompt=knowledge_template, output_key=\"knowledge\")\n",
    "\n",
    "knowledge_graph = knowledge_chain.run(facts)"
   ]
  },
  {
   "cell_type": "code",
   "execution_count": null,
   "id": "6aed86a6",
   "metadata": {},
   "outputs": [],
   "source": []
  },
  {
   "cell_type": "code",
   "execution_count": null,
   "id": "3c7b1b2a",
   "metadata": {},
   "outputs": [],
   "source": []
  },
  {
   "cell_type": "code",
   "execution_count": 10,
   "id": "44b9c837",
   "metadata": {},
   "outputs": [],
   "source": [
    "# https://python.langchain.com.cn/docs/modules/chains/foundational/sequential_chains"
   ]
  },
  {
   "cell_type": "code",
   "execution_count": 11,
   "id": "cd36beb1",
   "metadata": {},
   "outputs": [
    {
     "data": {
      "text/plain": [
       "SimpleSequentialChain(verbose=True, chains=[LLMChain(prompt=PromptTemplate(input_variables=['text_input'], template='<|begin_of_text|><|start_header_id|>system<|end_header_id|>你是一个分析师。请从本文中提取关键事实。不要包括意见。给每个事实一个数字，并保持简短的句子。<|eot_id|>\\n<|start_header_id|>user<|end_header_id|>: {text_input}<|eot_id|>\\n<|start_header_id|>assistant<|end_header_id|>:\\n'), llm=ChatOpenAI(callbacks=[<__main__.MyStreamingStdOutCallbackHandler object at 0x729c00f76260>], client=<openai.resources.chat.completions.Completions object at 0x729c00f775e0>, async_client=<openai.resources.chat.completions.AsyncCompletions object at 0x729c00fb0d30>, model_name='llama-3-chinese-8b-instruct-v3-f16', temperature=0.6, openai_api_key=SecretStr('**********'), openai_api_base='http://localhost:11434/v1/', openai_proxy='', streaming=True), output_key='facts'), LLMChain(prompt=PromptTemplate(input_variables=['facts'], template='<|begin_of_text|><|start_header_id|>system<|end_header_id|>您是一名数据分析师。请根据以下事实清单，用中文为投资者写一个简短的段落。不要遗漏关键信息。<|eot_id|>\\n<|start_header_id|>user<|end_header_id|>: {facts}<|eot_id|>\\n<|start_header_id|>assistant<|end_header_id|>:\\n'), llm=ChatOpenAI(callbacks=[<__main__.MyStreamingStdOutCallbackHandler object at 0x729c00f76260>], client=<openai.resources.chat.completions.Completions object at 0x729c00f775e0>, async_client=<openai.resources.chat.completions.AsyncCompletions object at 0x729c00fb0d30>, model_name='llama-3-chinese-8b-instruct-v3-f16', temperature=0.6, openai_api_key=SecretStr('**********'), openai_api_base='http://localhost:11434/v1/', openai_proxy='', streaming=True), output_key='analysis')])"
      ]
     },
     "execution_count": 11,
     "metadata": {},
     "output_type": "execute_result"
    }
   ],
   "source": [
    "simple_sequential_chain = SimpleSequentialChain(chains=[fact_extraction_chain, data_analysis_chain], verbose=True)\n",
    "simple_sequential_chain"
   ]
  },
  {
   "cell_type": "code",
   "execution_count": 12,
   "id": "0b133fbc",
   "metadata": {},
   "outputs": [
    {
     "name": "stdout",
     "output_type": "stream",
     "text": [
      "\n",
      "\n",
      "\u001b[1m> Entering new SimpleSequentialChain chain...\u001b[0m\n",
      "以下是提取自文本的关键事实：\n",
      "\n",
      "1. 阿里云于2009年创立；\n",
      "2. 阿里云提出的使命是将计算变为公共服务；\n",
      "3. 阿里云坚持通过云的弹性和自助能力支持企业敏捷创新；\n",
      "4. 自2016年以来，阿里云一直保持中国第一、亚太第一、全球第三的地位；\n",
      "5. 目前，阿里云有超过400万个客户；\n",
      "6. 其中，有60%的客户是A股上市公司。"
     ]
    },
    {
     "name": "stderr",
     "output_type": "stream",
     "text": [
      "Error in MyStreamingStdOutCallbackHandler.on_llm_end callback: NameError(\"name 'sys' is not defined\")\n"
     ]
    },
    {
     "name": "stdout",
     "output_type": "stream",
     "text": [
      "\u001b[36;1m\u001b[1;3m以下是提取自文本的关键事实：\n",
      "\n",
      "1. 阿里云于2009年创立；\n",
      "2. 阿里云提出的使命是将计算变为公共服务；\n",
      "3. 阿里云坚持通过云的弹性和自助能力支持企业敏捷创新；\n",
      "4. 自2016年以来，阿里云一直保持中国第一、亚太第一、全球第三的地位；\n",
      "5. 目前，阿里云有超过400万个客户；\n",
      "6. 其中，有60%的客户是A股上市公司。\u001b[0m\n",
      "阿里云创立于2009年，旨在将计算变为公共服务，并推崇通过云的弹性和自助能力来支持企业敏捷创新。在过去的十余年中，阿里云始终保持着稳定的领导地位。截至目前，它已成为中国第一、亚太地区第一和全球第三大云计算提供商，其客户总数超过400万，其中包括了60%以上是来自A股上市公司的客户。这些客户能够充分利用阿里云的资源，以提高生产力和降低成本，并为未来的成功奠定坚实基础。无论是在创新或成长方面，阿里云一直秉承着将计算变革成为公共服务的使命，为全球企业提供卓越的云解决方案。"
     ]
    },
    {
     "name": "stderr",
     "output_type": "stream",
     "text": [
      "Error in MyStreamingStdOutCallbackHandler.on_llm_end callback: NameError(\"name 'sys' is not defined\")\n"
     ]
    },
    {
     "name": "stdout",
     "output_type": "stream",
     "text": [
      "\u001b[33;1m\u001b[1;3m阿里云创立于2009年，旨在将计算变为公共服务，并推崇通过云的弹性和自助能力来支持企业敏捷创新。在过去的十余年中，阿里云始终保持着稳定的领导地位。截至目前，它已成为中国第一、亚太地区第一和全球第三大云计算提供商，其客户总数超过400万，其中包括了60%以上是来自A股上市公司的客户。这些客户能够充分利用阿里云的资源，以提高生产力和降低成本，并为未来的成功奠定坚实基础。无论是在创新或成长方面，阿里云一直秉承着将计算变革成为公共服务的使命，为全球企业提供卓越的云解决方案。\u001b[0m\n",
      "\n",
      "\u001b[1m> Finished chain.\u001b[0m\n"
     ]
    },
    {
     "data": {
      "text/plain": [
       "'阿里云创立于2009年，旨在将计算变为公共服务，并推崇通过云的弹性和自助能力来支持企业敏捷创新。在过去的十余年中，阿里云始终保持着稳定的领导地位。截至目前，它已成为中国第一、亚太地区第一和全球第三大云计算提供商，其客户总数超过400万，其中包括了60%以上是来自A股上市公司的客户。这些客户能够充分利用阿里云的资源，以提高生产力和降低成本，并为未来的成功奠定坚实基础。无论是在创新或成长方面，阿里云一直秉承着将计算变革成为公共服务的使命，为全球企业提供卓越的云解决方案。'"
      ]
     },
     "execution_count": 12,
     "metadata": {},
     "output_type": "execute_result"
    }
   ],
   "source": [
    "simple_sequential_result = simple_sequential_chain.run(text_contents)\n",
    "simple_sequential_result"
   ]
  },
  {
   "cell_type": "code",
   "execution_count": 13,
   "id": "4be5d910",
   "metadata": {},
   "outputs": [],
   "source": [
    "sequential_chain = SequentialChain(\n",
    "    chains=[fact_extraction_chain, data_analysis_chain, knowledge_chain],\n",
    "    input_variables=[\"text_input\"],\n",
    "    # Here we return multiple variables\n",
    "    output_variables=[\"analysis\", \"knowledge\"],\n",
    "    verbose=True)"
   ]
  },
  {
   "cell_type": "code",
   "execution_count": 14,
   "id": "b7abc3ab",
   "metadata": {},
   "outputs": [
    {
     "name": "stdout",
     "output_type": "stream",
     "text": [
      "\n",
      "\n",
      "\u001b[1m> Entering new SequentialChain chain...\u001b[0m\n",
      "以下"
     ]
    },
    {
     "name": "stderr",
     "output_type": "stream",
     "text": [
      "/usr/local/lib/python3.10/dist-packages/langchain_core/_api/deprecation.py:139: LangChainDeprecationWarning: The method `Chain.__call__` was deprecated in langchain 0.1.0 and will be removed in 0.3.0. Use invoke instead.\n",
      "  warn_deprecated(\n"
     ]
    },
    {
     "name": "stdout",
     "output_type": "stream",
     "text": [
      "是从文中提取出来的关键事实：\n",
      "\n",
      "1. 阿里云创立于2009年。\n",
      "2. 阿里云提出「让计算成为公共服务」并推崇弹性和自服务能力支持企业创新。\n",
      "3. 自2016年起，阿里云保持中国第一、亚太第一、全球第三的市场地位。\n",
      "4. 阿里云当前有超过400万客户。\n",
      "5. 其中包括60%的上市公司。"
     ]
    },
    {
     "name": "stderr",
     "output_type": "stream",
     "text": [
      "Error in MyStreamingStdOutCallbackHandler.on_llm_end callback: NameError(\"name 'sys' is not defined\")\n"
     ]
    },
    {
     "name": "stdout",
     "output_type": "stream",
     "text": [
      "作为一名投资者，您可能对阿里云的发展和成就感兴趣。在2009年，阿里云正式成立，并提出了「让计算成为公共服务」的理念，强调弹性和自服务能力的重要性，以支持企业创新。如今，阿里云已经保持了多年的领导地位，在中国、亚太地区和全球范围内都稳居第一名。此外，截至目前，阿里云已拥有超过400万客户，其中包括60%以上的上市公司。这表明阿里云在行业中的巨大影响力，以及其能够为企业提供可靠、高效的解决方案。这些事实充分证明了阿里云的成长潜力和市场竞争力的强劲表现，对于投资者而言，这是一个值得关注、研究并加以分析的公司。"
     ]
    },
    {
     "name": "stderr",
     "output_type": "stream",
     "text": [
      "Error in MyStreamingStdOutCallbackHandler.on_llm_end callback: NameError(\"name 'sys' is not defined\")\n"
     ]
    },
    {
     "name": "stdout",
     "output_type": "stream",
     "text": [
      "以下是将事实列表转换为知识图谱三元组的结果：\n",
      "\n",
      "1. (阿里云，创立于，2009年)\n",
      "2. (阿里云，提出了，「让计算成为公共服务」并推崇弹性和自服务能力支持企业创新)\n",
      "3. ((阿里云，保持市场地位)，从2016年开始,(中国第一、亚太第一、全球第三))\n",
      "4. ((阿里云，拥有客户数)，超过400万）\n",
      "5. ((阿里云，拥有的客户种类),(上市公司),60%)"
     ]
    },
    {
     "name": "stderr",
     "output_type": "stream",
     "text": [
      "Error in MyStreamingStdOutCallbackHandler.on_llm_end callback: NameError(\"name 'sys' is not defined\")\n"
     ]
    },
    {
     "name": "stdout",
     "output_type": "stream",
     "text": [
      "\n",
      "\u001b[1m> Finished chain.\u001b[0m\n"
     ]
    },
    {
     "data": {
      "text/plain": [
       "{'text_input': '自2009年创立之初，阿里云就提出“云计算，\\n让计算成为公共服务”，并坚持通过云的弹性和自服务能力支持企业敏捷创新。\\n自2016年起，阿里云持续保持中国第一、亚太第一、全球第三的市场地位。\\n当前阿里云服务超400万客户，包括60%A股上市公司。\\n',\n",
       " 'analysis': '作为一名投资者，您可能对阿里云的发展和成就感兴趣。在2009年，阿里云正式成立，并提出了「让计算成为公共服务」的理念，强调弹性和自服务能力的重要性，以支持企业创新。如今，阿里云已经保持了多年的领导地位，在中国、亚太地区和全球范围内都稳居第一名。此外，截至目前，阿里云已拥有超过400万客户，其中包括60%以上的上市公司。这表明阿里云在行业中的巨大影响力，以及其能够为企业提供可靠、高效的解决方案。这些事实充分证明了阿里云的成长潜力和市场竞争力的强劲表现，对于投资者而言，这是一个值得关注、研究并加以分析的公司。',\n",
       " 'knowledge': '以下是将事实列表转换为知识图谱三元组的结果：\\n\\n1. (阿里云，创立于，2009年)\\n2. (阿里云，提出了，「让计算成为公共服务」并推崇弹性和自服务能力支持企业创新)\\n3. ((阿里云，保持市场地位)，从2016年开始,(中国第一、亚太第一、全球第三))\\n4. ((阿里云，拥有客户数)，超过400万）\\n5. ((阿里云，拥有的客户种类),(上市公司),60%)'}"
      ]
     },
     "execution_count": 14,
     "metadata": {},
     "output_type": "execute_result"
    }
   ],
   "source": [
    "sequential_chain_result = sequential_chain({\"text_input\": text_contents})\n",
    "sequential_chain_result"
   ]
  },
  {
   "cell_type": "code",
   "execution_count": null,
   "id": "10de83a4",
   "metadata": {},
   "outputs": [],
   "source": []
  }
 ],
 "metadata": {
  "kernelspec": {
   "display_name": "Python 3 (ipykernel)",
   "language": "python",
   "name": "python3"
  },
  "language_info": {
   "codemirror_mode": {
    "name": "ipython",
    "version": 3
   },
   "file_extension": ".py",
   "mimetype": "text/x-python",
   "name": "python",
   "nbconvert_exporter": "python",
   "pygments_lexer": "ipython3",
   "version": "3.10.12"
  }
 },
 "nbformat": 4,
 "nbformat_minor": 5
}
